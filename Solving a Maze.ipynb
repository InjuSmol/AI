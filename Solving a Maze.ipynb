{
  "cells": [
    {
      "cell_type": "markdown",
      "metadata": {
        "id": "vEDxGYC_yqTq"
      },
      "source": [
        "# SBU CSE 352 - HW 1.2 - Search: Solving a Maze Using a Goal-based Agent\n",
        "\n",
        "\n",
        "---\n",
        "\n",
        "## Instructions\n",
        "\n",
        "Total Points: 100\n",
        "\n",
        "Complete this notebook. Use the provided notebook cells and insert additional code and markdown cells as needed. Only use standard packages (numpy, scipy, and built-in packages like random). Submit the completely rendered notebook as a HTML file.\n",
        "\n",
        "\n",
        "## Introduction\n",
        "\n",
        "The agent has a map of the maze it is in and the environment is assumed to be **deterministic, discrete, and known.** The agent must use the map to plan a path through the maze from the starting location $S$ to the goal location $G$.  This is a planing exercise for a goal-based agent, so you do not need to implement an environment, just use the map to search for a path. Once the plan is made, the agent in a deterministic environment (i.e., the transition function is deterministic with the outcome of each state/action pair fixed and no randomness) can just follow the path and does not need to care about the percepts.\n",
        "This is also called an **[open-loop system](https://en.wikipedia.org/wiki/Open-loop_controller).**\n",
        "The execution phase is trivial and we do not implement it in this exercise.\n",
        "\n",
        "Tree search algorithm implementations that you find online and used in general algorithms courses have often a different aim. These algorithms assume that you already have a tree in memory. We are interested in dynamically creating a search tree with the aim of finding a good/the best path from the root node to the goal state. Follow the pseudo code presented in the text book (and replicated in the slides) closely. Ideally, we would like to search only a small part of the maze, i.e., create a search tree with as few nodes as possible.\n",
        "\n",
        "Several mazes for this exercise are stored as text files. Here is the small example maze:"
      ]
    },
    {
      "cell_type": "markdown",
      "metadata": {
        "id": "0H96QA_VBLjz"
      },
      "source": [
        "Given:\n",
        "\n",
        "*Deterministic --> the outsome of every action is predictable, no randomness.\n",
        "\n",
        "*Discrete --> the number of possible states and actions is finite and countable.\n",
        "\n",
        "*known --> the agents has a map of the maze.\n",
        "\n",
        "*Open-loop --> we don't care about percepts.\n",
        "\n",
        "S --> start location\n",
        "\n",
        "G --> goal location\n",
        "\n",
        "Using the map search for the path"
      ]
    },
    {
      "cell_type": "code",
      "execution_count": 4,
      "metadata": {
        "colab": {
          "base_uri": "https://localhost:8080/",
          "height": 0
        },
        "id": "dTw87RlBzTOi",
        "outputId": "862782b3-2e0f-496c-9417-468b31d3a7e4"
      },
      "outputs": [
        {
          "name": "stdout",
          "output_type": "stream",
          "text": [
            "Cloning into 'CS7320-AI'...\n",
            "remote: Enumerating objects: 2755, done.\u001b[K\n",
            "remote: Counting objects: 100% (15/15), done.\u001b[K\n",
            "remote: Compressing objects: 100% (15/15), done.\u001b[K\n",
            "remote: Total 2755 (delta 4), reused 0 (delta 0), pack-reused 2740 (from 2)\u001b[K\n",
            "Receiving objects: 100% (2755/2755), 252.36 MiB | 35.68 MiB/s, done.\n",
            "Resolving deltas: 100% (1719/1719), done.\n",
            "Updating files: 100% (135/135), done.\n",
            "/content/CS7320-AI/Search\n",
            "empty_2_maze.txt\t  loops_maze.txt\t\t     maze_helper.py   small_maze.txt\n",
            "empty_maze.txt\t\t  Maze_BFS_vs_A_Star.ipynb\t     Maze.ipynb       wall_maze.txt\n",
            "Explore_heuristics.ipynb  Maze_Example-Animation_full.ipynb  medium_maze.txt\n",
            "large_maze.txt\t\t  Maze_Example-Animation.ipynb\t     open_maze.txt\n",
            "L_maze.txt\t\t  Maze_Example.ipynb\t\t     README.md\n"
          ]
        }
      ],
      "source": [
        "# First download the repo and change the directory to be the one where the dependencies are.\n",
        "# You should only need to do this once per session. If you want to reset, do Runtime -> Disconnect and Delete Runtime\n",
        "# You can always do !pwd to see the current working directory and !ls to list current files.\n",
        "!git clone https://github.com/stanleybak/CS7320-AI.git\n",
        "%cd CS7320-AI/Search\n",
        "!ls"
      ]
    },
    {
      "cell_type": "code",
      "execution_count": 3,
      "metadata": {
        "colab": {
          "base_uri": "https://localhost:8080/",
          "height": 0
        },
        "id": "ZS7Ju93Cng1w",
        "outputId": "a1f43039-3d8c-42ec-86a6-6d568bb7fc8b"
      },
      "outputs": [
        {
          "name": "stdout",
          "output_type": "stream",
          "text": [
            "XXXXXXXXXXXXXXXXXXXXXXXXXXXXXXXXXXXXX\n",
            "X                                  SX\n",
            "X            X                      X\n",
            "X            X                      X\n",
            "X            X                      X\n",
            "X            X                      X\n",
            "X            X                      X\n",
            "X            X      X               X\n",
            "X            X      X               X\n",
            "X            X      X               X\n",
            "X            X      X               X\n",
            "X            X      X               X\n",
            "X            X      X               X\n",
            "X            X      X               X\n",
            "XXXXXXXXXXXXXX      XXXXXXXXXXXXXXXXX\n",
            "X            X                      X\n",
            "X            X                      X\n",
            "X            X                      X\n",
            "X                                   X\n",
            "X                                   X\n",
            "X                                   X\n",
            "XG                                  X\n",
            "XXXXXXXXXXXXXXXXXXXXXXXXXXXXXXXXXXXXX\n",
            "\n"
          ]
        }
      ],
      "source": [
        "with open(\"open_maze.txt\", \"r\") as f2:\n",
        "    maze_str2 = f2.read()\n",
        "print(maze_str2)"
      ]
    },
    {
      "cell_type": "code",
      "execution_count": 2,
      "metadata": {
        "colab": {
          "base_uri": "https://localhost:8080/",
          "height": 0
        },
        "id": "ny3IAxVAyqTs",
        "outputId": "756308d5-ed1b-4cf1-ab2d-f0184f2fc751"
      },
      "outputs": [
        {
          "name": "stdout",
          "output_type": "stream",
          "text": [
            "XXXXXXXXXXXXXXXXXXXXXX\n",
            "X XX        X X      X\n",
            "X    XXXXXX X XXXXXX X\n",
            "XXXXXX     S  X      X\n",
            "X    X XXXXXX XX XXXXX\n",
            "X XXXX X         X   X\n",
            "X        XXX XXX   X X\n",
            "XXXXXXXXXX    XXXXXX X\n",
            "XG         XX        X\n",
            "XXXXXXXXXXXXXXXXXXXXXX\n",
            "\n"
          ]
        }
      ],
      "source": [
        "# if the below fails to open, then small_maze.txt is not in the current working directory (see above code block)\n",
        "with open(\"small_maze.txt\", \"r\") as f:\n",
        "    maze_str = f.read()\n",
        "print(maze_str)"
      ]
    },
    {
      "cell_type": "markdown",
      "metadata": {
        "id": "Hdqjt6WfyqTs"
      },
      "source": [
        "__Note:__ The mazes above contains cycles and therefore the state space may not form proper trees unless cycles are prevented. Therfore, you will need to deal with cycle detection in your code."
      ]
    },
    {
      "cell_type": "markdown",
      "metadata": {
        "id": "Kzts6NT5yqTt"
      },
      "source": [
        "## Parsing and pretty printing the maze\n",
        "\n",
        "The maze can also be displayed in color using code in the module [maze_helper.py](maze_helper.py). The code parses the string representing the maze and converts it into a `numpy` 2d array which you can use in your implementation. Position are represented as a 2-tuple of the form `(row, col)`."
      ]
    },
    {
      "cell_type": "code",
      "execution_count": 30,
      "metadata": {
        "colab": {
          "base_uri": "https://localhost:8080/",
          "height": 0
        },
        "id": "2wTIXhvGyqTt",
        "outputId": "b148be87-622d-464c-9d13-af43de655177",
        "tags": []
      },
      "outputs": [
        {
          "name": "stdout",
          "output_type": "stream",
          "text": [
            "Position(0,0): X\n",
            "Position(8,1): G\n",
            "(3, 11)\n"
          ]
        }
      ],
      "source": [
        "import maze_helper as mh\n",
        "\n",
        "maze = mh.parse_maze(maze_str)\n",
        "\n",
        "# look at a position in the maze by subsetting the 2d array\n",
        "print(\"Position(0,0):\", maze[0, 0])\n",
        "\n",
        "# there is also a helper function called `look(maze, pos)` available\n",
        "# which uses a 2-tuple for the position.\n",
        "print(\"Position(8,1):\", mh.look(maze, (8, 1)))\n",
        "print(mh.find_pos(maze,'S'))"
      ]
    },
    {
      "cell_type": "markdown",
      "metadata": {
        "id": "rG4RYBXOyqTt"
      },
      "source": [
        "A helper function to visualize the maze is also available."
      ]
    },
    {
      "cell_type": "code",
      "execution_count": null,
      "metadata": {
        "colab": {
          "base_uri": "https://localhost:8080/",
          "height": 286
        },
        "id": "pXcoB6ULyqTu",
        "outputId": "479806d9-ef0f-4acf-e854-71ec68a00c1a"
      },
      "outputs": [
        {
          "data": {
            "image/png": "[encoded data removed]",
            "text/plain": [
              "<Figure size 640x480 with 1 Axes>"
            ]
          },
          "metadata": {
            "image/png": {
              "height": 269,
              "width": 534
            }
          },
          "output_type": "display_data"
        }
      ],
      "source": [
        "%matplotlib inline\n",
        "%config InlineBackend.figure_format = 'retina'\n",
        "# use higher resolution images in notebook\n",
        "\n",
        "mh.show_maze(maze)"
      ]
    },
    {
      "cell_type": "markdown",
      "metadata": {
        "id": "QiX0kd6NyqTu"
      },
      "source": [
        "Find the position of the start and the goal using the helper function `find_pos()`"
      ]
    },
    {
      "cell_type": "code",
      "execution_count": null,
      "metadata": {
        "colab": {
          "base_uri": "https://localhost:8080/"
        },
        "id": "Z1ZiNESOyqTu",
        "outputId": "f2028ec2-479b-4195-af5b-aa17b51f109e"
      },
      "outputs": [
        {
          "name": "stdout",
          "output_type": "stream",
          "text": [
            "Start location: (3, 11)\n",
            "Goal location: (8, 1)\n"
          ]
        }
      ],
      "source": [
        "print(\"Start location:\", mh.find_pos(maze, what = \"S\"))\n",
        "print(\"Goal location:\", mh.find_pos(maze, what = \"G\"))"
      ]
    },
    {
      "cell_type": "markdown",
      "metadata": {
        "id": "z8t19iQlyqTv"
      },
      "source": [
        "Helper function documentation."
      ]
    },
    {
      "cell_type": "code",
      "execution_count": null,
      "metadata": {
        "colab": {
          "base_uri": "https://localhost:8080/"
        },
        "id": "cTN8wMExyqTv",
        "outputId": "ccbe41f5-c935-4074-c892-bd605401ca30"
      },
      "outputs": [
        {
          "name": "stdout",
          "output_type": "stream",
          "text": [
            "Help on module maze_helper:\n",
            "\n",
            "NAME\n",
            "    maze_helper\n",
            "\n",
            "DESCRIPTION\n",
            "    Code for the Maze Assignment by Michael Hahsler\n",
            "    Usage: \n",
            "        import maze_helper as mh\n",
            "        mh.show_some_mazes()\n",
            "\n",
            "FUNCTIONS\n",
            "    find_pos(maze, what='S')\n",
            "        Find start/goal in a maze and returns the first one. \n",
            "        Caution: there is no error checking!\n",
            "        \n",
            "        Parameters:\n",
            "        maze: a array with characters prodced by parse_maze()\n",
            "        what: the letter to be found ('S' for start and 'G' for goal)\n",
            "        \n",
            "        Returns:\n",
            "        a tupple (x, y) for the found position.\n",
            "    \n",
            "    look(maze, pos)\n",
            "        Look at the label of a square with the position as an array of the form (x, y).\n",
            "    \n",
            "    parse_maze(maze_str)\n",
            "        Convert a maze as a string into a 2d numpy array\n",
            "    \n",
            "    show_maze(maze, fontsize=10)\n",
            "        Display a (parsed) maze as an image.\n",
            "    \n",
            "    welcome()\n",
            "        Welcome message.\n",
            "\n",
            "FILE\n",
            "    /content/CS7320-AI/Search/maze_helper.py\n",
            "\n",
            "\n"
          ]
        }
      ],
      "source": [
        "help(mh)"
      ]
    },
    {
      "cell_type": "markdown",
      "metadata": {
        "id": "E7mVM97byqTv"
      },
      "source": [
        "## Tree structure\n",
        "\n",
        "Here is an implementation of the basic node structure for the search algorithms (see Fig 3.7 on page 73). I have added a method that extracts the path from the root node to the current node. It can be used to get the path when the search is completed."
      ]
    },
    {
      "cell_type": "code",
      "execution_count": 6,
      "metadata": {
        "id": "--QcXcbLyqTw"
      },
      "outputs": [],
      "source": [
        "class Node:\n",
        "    def __init__(self, pos, parent, action, cost):\n",
        "        self.pos = tuple(pos)    # the state; positions are (row,col)\n",
        "        self.parent = parent     # reference to parent node. None means root node.\n",
        "        self.action = action     # action used in the transition function (root node has None)\n",
        "        self.cost = cost         # for uniform cost this is the depth. It is also g(n) for A* search\n",
        "\n",
        "    def __str__(self):\n",
        "        return f\"Node - pos = {self.pos}; action = {self.action}; cost = {self.cost}\"\n",
        "\n",
        "    def get_path_from_root(self):\n",
        "        \"\"\"returns nodes on the path from the root to the current node.\"\"\"\n",
        "        node = self\n",
        "        path = [node]\n",
        "\n",
        "        while not node.parent is None:\n",
        "            node = node.parent\n",
        "            path.append(node)\n",
        "\n",
        "        path.reverse()\n",
        "\n",
        "        return(path)"
      ]
    },
    {
      "cell_type": "markdown",
      "metadata": {
        "id": "o9qSfdNFyqTw"
      },
      "source": [
        "If needed, then you can add more fields to the class like the heuristic value $h(n)$ or $f(n)$.\n",
        "\n",
        "Examples for how to create and use a tree and information on memory management can be found [here](../HOWTOs/trees.ipynb)."
      ]
    },
    {
      "cell_type": "markdown",
      "metadata": {
        "id": "YePL7s9NyqTw"
      },
      "source": [
        "# Tasks\n",
        "\n",
        "The goal is to:\n",
        "\n",
        "1. Implement the following search algorithms for solving different mazes:\n",
        "\n",
        "    - Breadth-first search (BFS)\n",
        "    - Depth-first search (DFS)\n",
        "    - Greedy best-first search (GBFS)\n",
        "    - A* search\n",
        "\n",
        "2. Run each of the above algorithms on the\n",
        "    - [small maze](small_maze.txt),\n",
        "    - [medium maze](medium_maze.txt),\n",
        "    - [large maze](large_maze.txt),\n",
        "    - [open maze](open_maze.txt),\n",
        "    - [wall maze](wall_maze.txt),\n",
        "    - [loops maze](loops_maze.txt),\n",
        "    - [empty maze](empty_maze.txt), and\n",
        "    - [empty 2_maze](empty_2_maze.txt).\n",
        "    \n",
        "3. For each problem instance and each search algorithm, report the following in a table:\n",
        "\n",
        "    - The solution and its path cost\n",
        "    - Total number of nodes expanded\n",
        "    - Maximum tree depth\n",
        "    - Maximum size of the frontier\n",
        "\n",
        "4. Display each solution by marking every maze square (or state) visited and the squares on the final path.\n",
        "\n",
        "## General [10 Points]\n",
        "\n",
        "1. Your implementation can use libraries like math, numpy, scipy, but not libraries that implement inteligent agents or complete search algorithms. Try to keep the code simple! In this course, we want to learn about the algorithms and we often do not need to use object-oriented design.\n",
        "2. You notebook needs to be formated professionally.\n",
        "    - Add additional markdown blocks for your description, comments in the code, add tables and use mathplotlib to produce charts where appropriate\n",
        "    - Do not show debugging output or include an excessive amount of output.\n",
        "    - Check that your PDF file is readable. For example, long lines are cut off in the PDF file. You don't have control over page breaks, so do not worry about these.\n",
        "3. Document your code. Add a short discussion of how your implementation works and your design choices."
      ]
    },
    {
      "cell_type": "markdown",
      "metadata": {
        "id": "p_6z07BdyqTw"
      },
      "source": [
        "## Task 1: Defining the search problem and determining the problem size [10 Points]\n",
        "\n",
        "Define the components of the search problem:\n",
        "\n",
        "* Initial state\n",
        "* Actions\n",
        "* Transition model\n",
        "* Goal state\n",
        "* Path cost\n",
        "\n",
        "Use verbal descriptions, variables and equations as appropriate.\n",
        "\n",
        "*Note:* You can swich the next block from code to Markdown and use formating."
      ]
    },
    {
      "cell_type": "code",
      "execution_count": 5,
      "metadata": {
        "id": "jCvHIrBwyqTw"
      },
      "outputs": [],
      "source": [
        "import maze_helper as mh\n",
        "\n",
        "class Problem:\n",
        "    def __init__(self, maze, start, goal):\n",
        "        self.maze = maze\n",
        "        self.start = mh.find_pos(maze, start) # tuple position of 'S'\n",
        "        self.goal = mh.find_pos(maze, goal) # tuple position of 'G'\n",
        "        self.tracker = PerformanceTracker() # an instance of performance trakcer for each problem\n",
        "\n",
        "    def is_goal(self, state): # checks if the surrent state is the goal\n",
        "        return state == self.goal\n",
        "\n",
        "    def is_valid(self, state): # checks if the position is not an obsitckle and is within bounds\n",
        "        x, y = state\n",
        "        return self.maze[x][y] != 'X' #0 <= x < len(self.maze) and 0 <= y < len(self.maze[0]) <-- are there mazes without x walls?\n",
        "\n",
        "    def actions(self, state): # returns the list of valid actions\n",
        "        x, y = state\n",
        "        possible_actions = []\n",
        "        directions = [(0, 1), (0, -1), (1, 0), (-1, 0)] # right, left, down, up\n",
        "\n",
        "        for dx, dy in directions:\n",
        "            if self.is_valid((x + dx, y + dy)):\n",
        "                possible_actions.append((dx, dy))\n",
        "        return possible_actions\n",
        "\n",
        "    def transition(self, state, action): #transition model\n",
        "        x, y = state\n",
        "        dx, dy = action\n",
        "        return (x + dx, y + dy) #returns new position"
      ]
    },
    {
      "cell_type": "code",
      "execution_count": 460,
      "metadata": {
        "id": "s44vMM5-Us7p"
      },
      "outputs": [],
      "source": [
        "# Separate class for performance tracking:\n",
        "class PerformanceTracker:\n",
        "    def __init__(self):\n",
        "        self.reset() # resets the values after each run\n",
        "\n",
        "    # Reset for each method:\n",
        "    def reset(self):\n",
        "        self.path_cost = 0\n",
        "        self.nodes_expanded = 0\n",
        "        self.max_tree_depth = 0\n",
        "        self.max_nodes_in_memory = 0\n",
        "        self.max_frontier_size = 0\n",
        "\n",
        "    # Method to run the method for specific problem and print the metrics\n",
        "    def track(self, problem, search_method):\n",
        "        self.reset()\n",
        "        result = search_method(problem, self)  # Pass tracker into the method\n",
        "        #self.print_metrics()\n",
        "        return {\"Path cost\": self.path_cost,\n",
        "                \"Nodes expanded\": self.nodes_expanded,\n",
        "                \"Max tree depth\": self.max_tree_depth,\n",
        "                \"Max nodes in memory:\": self.max_nodes_in_memory,\n",
        "                \"Max frontier size\": self.max_frontier_size\n",
        "                }\n",
        "\n",
        "    def update_path_cost(self, cost):\n",
        "        self.path_cost = cost\n",
        "\n",
        "    def increment_nodes_expanded(self):\n",
        "        self.nodes_expanded += 1\n",
        "\n",
        "    def update_max_tree_depth(self, depth):\n",
        "        self.max_tree_depth = max(self.max_tree_depth, depth)\n",
        "\n",
        "    def update_max_nodes_in_memory(self, count):\n",
        "        self.max_nodes_in_memory = max(self.max_nodes_in_memory, count)\n",
        "\n",
        "    def update_max_frontier_size(self, size):\n",
        "        self.max_frontier_size = max(self.max_frontier_size, size)\n",
        "\n",
        "    def print_metrics(self):\n",
        "        print(\"Path cost:\", self.path_cost)\n",
        "        print(\"Nodes expanded:\", self.nodes_expanded)\n",
        "        print(\"Max tree depth:\", self.max_tree_depth)\n",
        "        print(\"Max nodes in memory:\", self.max_nodes_in_memory)\n",
        "        print(\"Max frontier size:\", self.max_frontier_size)\n"
      ]
    },
    {
      "cell_type": "markdown",
      "metadata": {
        "id": "xz7hMCAkyqTw"
      },
      "source": [
        "Give some estimates for the problem size:\n",
        "\n",
        "* $n$: state space size\n",
        "* $d$: depth of the optimal solution\n",
        "* $m$: maximum depth of tree\n",
        "* $b$: maximum branching factor\n",
        "\n",
        "Describe how you would determin these values for a given maze."
      ]
    },
    {
      "cell_type": "markdown",
      "metadata": {
        "id": "pyN1oAczyqTw"
      },
      "source": [
        "## Task 2: Uninformed search: Breadth-first and depth-first [40 Points]\n",
        "\n",
        "Implement these search strategies. Follow the pseudocode in the textbook/slides. You can use the tree structure shown above to extract the final path from your solution.\n",
        "\n",
        "__Notes:__\n",
        "* You can find maze solving implementations online that use the map to store information. While this is an effective idea for this two-dimensional navigation problem, it typically cannot be used for other search problems. Therefore, follow the textbook and only store information in the tree created during search, and use the `reached` and `frontier` data structures.\n",
        "* DSF can be implemented using the BFS tree search algorithm and simply changing the order in which the frontier is expanded (this is equivalent to best-first search with path length as the criterion to expand the next node). However, to take advantage of the significantly smaller memory footprint of DFS, you need to implement DFS in a different way without a `reached` data structure and by releasing the memory for nodes that are not needed anymore.\n",
        "* If DFS does not use a `reached` data structure, then its cycle checking abilities are limited. Remember, that DSF is incomplete if cycles cannot be prevented. You will see in your experiments that open spaces are a problem."
      ]
    },
    {
      "cell_type": "code",
      "execution_count": 349,
      "metadata": {
        "id": "yVYHnm2fyqTx"
      },
      "outputs": [],
      "source": [
        "# 1. DFS: using Depth-Limited-Search\n",
        "\n",
        "# Helper method to detect cycles:\n",
        "def is_cycle(node): # returns true if the current node appears in the ancestors\n",
        "    anc = node.parent\n",
        "\n",
        "    while anc: # while not root\n",
        "        if anc.pos == node.pos:\n",
        "            return True #cycle\n",
        "        anc = anc.parent\n",
        "    return False\n",
        "\n",
        "#Iterative-Deeeping-Search:\n",
        "def DFS(problem, tracker=None): # returns the position of the goal\n",
        "\n",
        "    # Depth-Limited-Search:\n",
        "    def DLS(problem,limit):\n",
        "        frontier = [] # stack\n",
        "        frontier.append(Node(problem.start, None, None, 0)) # push the frontier on stack\n",
        "        result = \"failure\"\n",
        "        visited = 0\n",
        "\n",
        "        if tracker: tracker.update_max_frontier_size(len(frontier))\n",
        "\n",
        "        while frontier: # while not empty\n",
        "            node = frontier.pop()\n",
        "\n",
        "            if tracker:\n",
        "                tracker.update_max_tree_depth(node.cost)\n",
        "                tracker.update_max_nodes_in_memory(len(frontier) + visited)\n",
        "\n",
        "            if problem.is_goal(node.pos):\n",
        "                if tracker: tracker.update_path_cost(node.cost)\n",
        "                return node.pos  # goal found!\n",
        "\n",
        "            if node.cost > limit:\n",
        "                result = \"cutoff\"  # depth limit reached => cuttoff\n",
        "            # if no cycles:\n",
        "            elif not is_cycle(node): # if the node not visited:\n",
        "                visited +=1\n",
        "                for child in expand(problem, node):\n",
        "                    frontier.append(child)\n",
        "                    if tracker: tracker.update_max_frontier_size(len(frontier))\n",
        "        return result\n",
        "\n",
        "    # Helper methods:\n",
        "    def expand(problem, node):\n",
        "        if tracker: tracker.increment_nodes_expanded()\n",
        "        children = []\n",
        "        actions = problem.actions(node.pos) # get the valid actions list\n",
        "\n",
        "        for action in actions:\n",
        "            new_pos = problem.transition(node.pos, action) # applying action\n",
        "            child_node = Node(new_pos, node, action, node.cost + 1) # TODO we just increment the cost by 1, yeah?\n",
        "            children.append(child_node) # add to the list\n",
        "\n",
        "        return children\n",
        "\n",
        "    depth = 0\n",
        "    while True:\n",
        "        result = DLS(problem, depth)\n",
        "        if result != \"cutoff\":\n",
        "            return result # reuturn node.pos\n",
        "        depth += 1\n"
      ]
    },
    {
      "cell_type": "code",
      "execution_count": 369,
      "metadata": {
        "id": "tZ5N-MWM3yko"
      },
      "outputs": [],
      "source": [
        "# DFS with 'reached' for cycles detection:\n",
        "\n",
        "def DFS_with_reached(problem, tracker=None):\n",
        "    frontier = [] # stack\n",
        "    reached = {problem.start}\n",
        "\n",
        "    start_node = Node(problem.start, None, None, 0)\n",
        "    frontier.append(start_node)\n",
        "\n",
        "    visited = 0\n",
        "    if tracker:\n",
        "        tracker.update_max_frontier_size(len(frontier))\n",
        "\n",
        "    while frontier:\n",
        "        node = frontier.pop()\n",
        "\n",
        "        if tracker:\n",
        "            tracker.update_max_tree_depth(node.cost)\n",
        "            tracker.update_max_nodes_in_memory(len(frontier) + visited)\n",
        "\n",
        "        if problem.is_goal(node.pos):\n",
        "            if tracker:\n",
        "                tracker.update_path_cost(node.cost)\n",
        "            return node.pos  # goal found!\n",
        "\n",
        "        visited += 1\n",
        "        for child in expand(problem, node):\n",
        "            # Check if child node is in reached:\n",
        "            if child.pos not in reached:\n",
        "                reached.add(child.pos)\n",
        "                frontier.append(child)\n",
        "                if tracker:\n",
        "                    tracker.update_max_frontier_size(len(frontier))\n",
        "\n",
        "    return \"failure\"\n",
        "\n",
        "# Helper method for expansion:\n",
        "def expand(problem, node):\n",
        "    if tracker: tracker.increment_nodes_expanded()\n",
        "\n",
        "    children = []\n",
        "    actions = problem.actions(node.pos)\n",
        "\n",
        "    for action in actions:\n",
        "        new_pos = problem.transition(node.pos, action)\n",
        "        child_node = Node(new_pos, node, action, node.cost + 1)\n",
        "        children.append(child_node)\n",
        "\n",
        "    return children"
      ]
    },
    {
      "cell_type": "code",
      "execution_count": 49,
      "metadata": {
        "id": "24ey_N7PPmHj"
      },
      "outputs": [],
      "source": [
        "from collections import deque\n",
        "\n",
        "# 2. BFS:\n",
        "def BFS(problem, tracker=None):\n",
        "\n",
        "    # Helper methods:\n",
        "    def expand(problem, node):\n",
        "        children = []\n",
        "        actions = problem.actions(node.pos) # get the valid actions list\n",
        "\n",
        "        for action in actions:\n",
        "            new_pos = problem.transition(node.pos, action) # applying action\n",
        "            child_node = Node(new_pos, node, action, node.cost + 1) # TODO we just increment the cost by 1, yeah?\n",
        "            children.append(child_node) # add to the list\n",
        "\n",
        "        return children\n",
        "\n",
        "    initial = Node(problem.start, None, None, 0)\n",
        "    frontier = deque() # FIFO queue\n",
        "    reached = {initial.pos} # reached set\n",
        "    frontier.appendleft(initial)\n",
        "    if tracker: tracker.update_max_frontier_size(len(frontier))\n",
        "\n",
        "    if problem.is_goal(initial.pos):\n",
        "        if tracker:\n",
        "            tracker.increment_nodes_expanded()\n",
        "            tracker.update_max_tree_depth(initial.cost)\n",
        "            tracker.update_max_nodes_in_memory(1)\n",
        "            tracker.update_max_frontier_size(1)\n",
        "        return initial.pos\n",
        "\n",
        "    while frontier:\n",
        "        node = frontier.pop()\n",
        "\n",
        "        if tracker:\n",
        "            tracker.increment_nodes_expanded()\n",
        "            tracker.update_max_tree_depth(node.cost)\n",
        "            tracker.update_max_nodes_in_memory(len(frontier) + len(reached))  # frontier + reached\n",
        "\n",
        "        for child in expand(problem, node):\n",
        "            if problem.is_goal(child.pos):\n",
        "                if tracker: tracker.update_path_cost(child.cost)\n",
        "                return child.pos\n",
        "\n",
        "            if child.pos not in reached:\n",
        "                reached.add(child.pos)\n",
        "                frontier.appendleft(child)\n",
        "                if tracker: tracker.update_max_frontier_size(len(frontier))\n",
        "\n",
        "    return \"failure\"\n"
      ]
    },
    {
      "cell_type": "markdown",
      "metadata": {
        "id": "R_5AsjGGVd_h"
      },
      "source": [
        "How does BFS and DFS deal with loops (cycles)?"
      ]
    },
    {
      "cell_type": "code",
      "execution_count": null,
      "metadata": {
        "id": "Ba4-lZqkVfGU"
      },
      "outputs": [],
      "source": [
        "# BFS keeps track of reached nodes and DFS has is_cycle() method that checks for the cycles exploring the ancestors of the current node."
      ]
    },
    {
      "cell_type": "markdown",
      "metadata": {
        "id": "0dudE4jJVn0M"
      },
      "source": [
        "Are your implementations complete and optimal? Explain why. What is the time and space complexity of each of **your** implementations?"
      ]
    },
    {
      "cell_type": "code",
      "execution_count": null,
      "metadata": {
        "id": "3G7N_4U8Voz8"
      },
      "outputs": [],
      "source": [
        "# DFS is not complete as it enters infinite loop when the iterative deeping search is used bc\n",
        "# it checks for cycles only in limited ancestors of the current node and doesnt account for all the cycles."
      ]
    },
    {
      "cell_type": "markdown",
      "metadata": {
        "id": "yoy1kv5gVVT7"
      },
      "source": [
        "## Task 3: Informed search: Implement greedy best-first search and A* search  [20 Points]\n",
        "\n",
        "You can use the map to estimate the distance from your current position to the goal using the Manhattan distance (see https://en.wikipedia.org/wiki/Taxicab_geometry) as a heuristic function. Both algorithms are based on Best-First search which requires only a small change from the BFS algorithm you have already implemented (see textbook/slides).\n"
      ]
    },
    {
      "cell_type": "code",
      "execution_count": 42,
      "metadata": {
        "id": "XVgZzb8Up5w0"
      },
      "outputs": [],
      "source": [
        "import heapq as pq\n",
        "\n",
        "# Evaluation function:\n",
        "def evaluation_f(pos, goal): # Manhattan distance\n",
        "    x1, y1 = pos\n",
        "    x2, y2 = goal\n",
        "    return abs(x2 - x1) + abs(y2 - y1)\n",
        "\n",
        "# 3. Greedy-Best-First Search:\n",
        "\n",
        "# Greedy-BFS:\n",
        "def GBFS(problem, tracker=None):\n",
        "\n",
        "    # Helper methods:\n",
        "    def expand(problem, node):\n",
        "        if tracker: tracker.increment_nodes_expanded()\n",
        "        children = []\n",
        "        actions = problem.actions(node.pos) # get the valid actions list\n",
        "\n",
        "        for action in actions:\n",
        "            new_pos = problem.transition(node.pos, action) # applying action\n",
        "            child_node = Node(new_pos, node, action, node.cost + 1) # TODO we just increment the cost by 1, yeah?\n",
        "            children.append(child_node) # add to the list\n",
        "\n",
        "        return children\n",
        "\n",
        "    # Best-First-Search:\n",
        "    def BestFS(problem, h):\n",
        "        initial = Node(problem.start, None, None, 0)\n",
        "\n",
        "        if problem.is_goal(initial.pos):\n",
        "            return initial.pos\n",
        "\n",
        "        frontier = [] # Priority Queue\n",
        "        reached = {initial.pos} # reached set with costs\n",
        "        pq.heappush(frontier, (h(initial.pos), id(initial), initial)) # push the initial node to priority queue\n",
        "        if tracker: tracker.update_max_frontier_size(len(frontier))\n",
        "\n",
        "        while frontier:\n",
        "            _, _, node = pq.heappop(frontier)\n",
        "\n",
        "            if tracker:\n",
        "                tracker.update_max_tree_depth(node.cost)\n",
        "                tracker.update_max_nodes_in_memory(len(frontier) + len(reached))\n",
        "\n",
        "            for child in expand(problem, node):\n",
        "                if problem.is_goal(child.pos):\n",
        "                    if tracker: tracker.update_path_cost(child.cost)\n",
        "                    return child.pos\n",
        "                if child.pos not in reached:\n",
        "                    reached.add(child.pos)\n",
        "                    pq.heappush(frontier, (h(child.pos), id(child), child))\n",
        "                    if tracker: tracker.update_max_frontier_size(len(frontier))\n",
        "        return \"failure\"\n",
        "    # return:\n",
        "    return BestFS(problem, lambda pos: evaluation_f(pos, problem.goal))\n"
      ]
    },
    {
      "cell_type": "code",
      "execution_count": 305,
      "metadata": {
        "id": "OirLYvFKMqZ7"
      },
      "outputs": [],
      "source": [
        "import heapq as pq\n",
        "\n",
        "# 4. A Star Search: now for the cost function we use not only heuristic, but also the path cost to reach the current node\n",
        "def A_star(problem, tracker=None):\n",
        "\n",
        "    # Helper methods:\n",
        "    def expand(problem, node):\n",
        "        if tracker: tracker.increment_nodes_expanded()\n",
        "        children = []\n",
        "        actions = problem.actions(node.pos) # get the valid actions list\n",
        "        for action in actions:\n",
        "            new_pos = problem.transition(node.pos, action) # applying action\n",
        "            child_node = Node(new_pos, node, action, node.cost + 1) # TODO we just increment the cost by 1, yeah?\n",
        "            children.append(child_node) # add to the list\n",
        "\n",
        "        return children\n",
        "\n",
        "    def BestFS_f(problem, h): # h --> manhattan distance\n",
        "        initial = Node(problem.start, None, None, 0)\n",
        "        if problem.is_goal(initial.pos):\n",
        "            if tracker: tracker.update_path_cost(initial.cost)\n",
        "            return initial.pos\n",
        "        c = 1 # for priority queue handling of the same path_cost values\n",
        "        frontier = [] # Priority Queue\n",
        "        reached = {initial.pos: initial.cost} # reached set with costs\n",
        "        # Now, we also add path cost:\n",
        "        pq.heappush(frontier, (h(initial.pos) + initial.cost, c, initial)) # push the initial node to priority queue\n",
        "        if tracker: tracker.update_max_frontier_size(len(frontier))\n",
        "\n",
        "        while frontier:\n",
        "            _, _, node = pq.heappop(frontier)\n",
        "\n",
        "            if tracker:\n",
        "                tracker.update_max_tree_depth(node.cost)\n",
        "                tracker.update_max_nodes_in_memory(len(frontier) + len(reached))\n",
        "\n",
        "            for child in expand(problem, node):\n",
        "                if problem.is_goal(child.pos):\n",
        "                    if tracker: tracker.update_path_cost(child.cost)\n",
        "                    return child.pos\n",
        "\n",
        "                # If not reached yet OR if the stored cost is more than current:\n",
        "                if child.pos not in reached or (node.cost + 1) < reached[child.pos]:\n",
        "                    reached[child.pos] = node.cost + 1 # store the cost\n",
        "                    pq.heappush(frontier, (h(child.pos) + node.cost + 1, c, child))\n",
        "                    c+=1\n",
        "                    if tracker: tracker.update_max_frontier_size(len(frontier))\n",
        "\n",
        "        return \"failure\"\n",
        "\n",
        "    return BestFS_f(problem, lambda pos: evaluation_f(pos, problem.goal))\n"
      ]
    },
    {
      "cell_type": "markdown",
      "metadata": {
        "id": "-3umD-OKyqTy"
      },
      "source": [
        "Are your implementations complete and optimal? What is the time and space complexity?"
      ]
    },
    {
      "cell_type": "code",
      "execution_count": 487,
      "metadata": {
        "id": "4GBCeCtbyqTy"
      },
      "outputs": [],
      "source": [
        "# Discussion:\n",
        "\n",
        "# Both implementations, A_star and GBFS are complete.\n",
        "# The time complexity for both is O(b^d), where b is the branhcing factor and d is the depht of the solution.\n",
        "# Space complexity is also O(b^d) bc we store all nodes in memory."
      ]
    },
    {
      "cell_type": "markdown",
      "metadata": {
        "id": "tCT-Ms86yqTy"
      },
      "source": [
        "## Task 4: Comparison and discussion [20 Points]\n",
        "\n",
        "Run experiments to compare the implemented algorithms.\n",
        "\n",
        "How to deal with issues:\n",
        "\n",
        "* Your implementation returns unexpected results: Try to debug and fix the code. Visualizing the maze, the current path and the frontier after every step is very helpful. If the code still does not work, then mark the result with an asterisk (*) and describe the issue below the table.\n",
        "\n",
        "* Your implementation cannot consistently solve a specific maze and ends up in an infinite loop:\n",
        "    Debug. If it is a shortcoming of the algorithm/implementation, then put \"N/A*\" in the results table and describe why this is happening."
      ]
    },
    {
      "cell_type": "code",
      "execution_count": 456,
      "metadata": {
        "id": "Wccs_aHe4hH1"
      },
      "outputs": [],
      "source": [
        "# Performance report:\n",
        "def report(problem, tracker):\n",
        "    return {\n",
        "      \"DFS\":\n",
        "      tracker.track(problem, DFS_with_reached),\n",
        "      \"BFS\":\n",
        "      tracker.track(problem, BFS),\n",
        "      \"GBFS\":\n",
        "      tracker.track(problem, GBFS),\n",
        "      \"A_star\":\n",
        "      tracker.track(problem, A_star),\n",
        "    }"
      ]
    },
    {
      "cell_type": "code",
      "execution_count": 109,
      "metadata": {
        "id": "6JR96lGCSc-U"
      },
      "outputs": [],
      "source": [
        "import maze_helper as mh"
      ]
    },
    {
      "cell_type": "code",
      "execution_count": 461,
      "metadata": {
        "id": "1A6Y5_fYKYgG"
      },
      "outputs": [],
      "source": [
        "final_results = [] # for each maze"
      ]
    },
    {
      "cell_type": "code",
      "execution_count": 463,
      "metadata": {
        "id": "6oW32YKr74wr"
      },
      "outputs": [],
      "source": [
        "# 1. SMALL MAZE:\n",
        "\n",
        "with open(\"small_maze.txt\", \"r\") as f:\n",
        "    maze_str = f.read()\n",
        "parsed_maze = mh.parse_maze(maze_str)\n",
        "\n",
        "small_maze = Problem(parsed_maze, 'S', 'G')\n",
        "tracker = PerformanceTracker()\n",
        "final_results.append((\"small_maze\", report(small_maze, tracker)))\n",
        "#print(final_results)"
      ]
    },
    {
      "cell_type": "code",
      "execution_count": 464,
      "metadata": {
        "id": "jFY1DcSPR8Zd"
      },
      "outputs": [],
      "source": [
        "# 2. MEDIUM MAZE:\n",
        "\n",
        "with open(\"medium_maze.txt\", \"r\") as f:\n",
        "    maze_str = f.read()\n",
        "parsed_maze = mh.parse_maze(maze_str)\n",
        "\n",
        "medium_maze = Problem(parsed_maze, 'S', 'G')\n",
        "tracker = PerformanceTracker()\n",
        "\n",
        "#report(medium_maze, tracker)\n",
        "final_results.append((\"medium_maze\", report(small_maze, tracker)))"
      ]
    },
    {
      "cell_type": "code",
      "execution_count": 465,
      "metadata": {
        "id": "bokUhARISAnU"
      },
      "outputs": [],
      "source": [
        "# 3. LARGE MAZE:\n",
        "\n",
        "with open(\"L_maze.txt\", \"r\") as f:\n",
        "    maze_str = f.read()\n",
        "parsed_maze = mh.parse_maze(maze_str)\n",
        "\n",
        "large_maze = Problem(parsed_maze, 'S', 'G')\n",
        "tracker = PerformanceTracker()\n",
        "\n",
        "#report(large_maze, tracker)\n",
        "final_results.append((\"large_maze\", report(small_maze, tracker)))"
      ]
    },
    {
      "cell_type": "code",
      "execution_count": 466,
      "metadata": {
        "colab": {
          "base_uri": "https://localhost:8080/",
          "height": 0
        },
        "id": "J1udhSTnSDMO",
        "outputId": "af19ca69-9530-4efb-92a0-fa851fea6d6a"
      },
      "outputs": [
        {
          "name": "stdout",
          "output_type": "stream",
          "text": [
            "\n",
            "1. DFS:\n",
            "\n",
            "Failed to avoid an infinite loop due to \n",
            "open spaces, but implemented a DFS with 'visited' tracking to avoid cycles\n"
          ]
        }
      ],
      "source": [
        "# 4. OPEN MAZE:\n",
        "\n",
        "with open(\"open_maze.txt\", \"r\") as f:\n",
        "    maze_str = f.read()\n",
        "parsed_maze = mh.parse_maze(maze_str)\n",
        "\n",
        "open_maze = Problem(parsed_maze, 'S', 'G')\n",
        "tracker = PerformanceTracker()\n",
        "print(\"\\n1. DFS:\\n\")\n",
        "print(\"Failed to avoid an infinite loop due to \\nopen spaces, but implemented a DFS with 'visited' tracking to avoid cycles\")\n",
        "\n",
        "final_results.append((\"open_maze\", report(small_maze, tracker)))"
      ]
    },
    {
      "cell_type": "code",
      "execution_count": 467,
      "metadata": {
        "id": "8nyLHe1OSFvl"
      },
      "outputs": [],
      "source": [
        "# 5. WALL MAZE:\n",
        "\n",
        "with open(\"wall_maze.txt\", \"r\") as f:\n",
        "    maze_str = f.read()\n",
        "parsed_maze = mh.parse_maze(maze_str)\n",
        "\n",
        "wall_maze = Problem(parsed_maze, 'S', 'G')\n",
        "#report(wall_maze, tracker)\n",
        "final_results.append((\"wall_maze\", report(small_maze, tracker)))"
      ]
    },
    {
      "cell_type": "code",
      "execution_count": 468,
      "metadata": {
        "id": "l9IoQmS6SI0C"
      },
      "outputs": [],
      "source": [
        "# 6. LOOPS MAZE:\n",
        "\n",
        "with open(\"loops_maze.txt\", \"r\") as f:\n",
        "    maze_str = f.read()\n",
        "parsed_maze = mh.parse_maze(maze_str)\n",
        "\n",
        "loops_maze = Problem(parsed_maze, 'S', 'G')\n",
        "#report(loops_maze, tracker)\n",
        "final_results.append((\"loops_maze\", report(small_maze, tracker)))"
      ]
    },
    {
      "cell_type": "code",
      "execution_count": 469,
      "metadata": {
        "id": "oen4A37bSLtx"
      },
      "outputs": [],
      "source": [
        "# 7. EMPTY MAZE:\n",
        "\n",
        "with open(\"empty_maze.txt\", \"r\") as f:\n",
        "    maze_str = f.read()\n",
        "parsed_maze = mh.parse_maze(maze_str)\n",
        "\n",
        "empty_maze = Problem(parsed_maze, 'S', 'G')\n",
        "#report(empty_maze, tracker)\n",
        "final_results.append((\"empty_maze\", report(small_maze, tracker)))"
      ]
    },
    {
      "cell_type": "code",
      "execution_count": 470,
      "metadata": {
        "id": "Ubwn66RrSRPR"
      },
      "outputs": [],
      "source": [
        "# 8. EMPTY MAZE 2:\n",
        "\n",
        "with open(\"empty_2_maze.txt\", \"r\") as f:\n",
        "    maze_str = f.read()\n",
        "parsed_maze = mh.parse_maze(maze_str)\n",
        "\n",
        "empty_maze_2 = Problem(parsed_maze, 'S', 'G')\n",
        "#report(empty_maze_2, tracker)\n",
        "final_results.append((\"empty_maze_2\", report(small_maze, tracker)))"
      ]
    },
    {
      "cell_type": "code",
      "execution_count": 471,
      "metadata": {
        "colab": {
          "base_uri": "https://localhost:8080/",
          "height": 0
        },
        "id": "egXbhiGASlQ7",
        "outputId": "2c30374e-0d4b-4970-c21c-9b3a856aa083"
      },
      "outputs": [
        {
          "name": "stdout",
          "output_type": "stream",
          "text": [
            "[('small_maze', {'DFS': {'Path cost': 29, 'Nodes expanded': 53, 'Max tree depth': 29, 'Max nodes in memory:': 56, 'Max frontier size': 4}, 'BFS': {'Path cost': 19, 'Nodes expanded': 90, 'Max tree depth': 18, 'Max nodes in memory:': 94, 'Max frontier size': 9}, 'GBFS': {'Path cost': 29, 'Nodes expanded': 39, 'Max tree depth': 28, 'Max nodes in memory:': 47, 'Max frontier size': 5}, 'A_star': {'Path cost': 19, 'Nodes expanded': 53, 'Max tree depth': 18, 'Max nodes in memory:': 64, 'Max frontier size': 8}}), ('small_maze', {'DFS': {'Path cost': 29, 'Nodes expanded': 53, 'Max tree depth': 29, 'Max nodes in memory:': 56, 'Max frontier size': 4}, 'BFS': {'Path cost': 19, 'Nodes expanded': 90, 'Max tree depth': 18, 'Max nodes in memory:': 94, 'Max frontier size': 9}, 'GBFS': {'Path cost': 29, 'Nodes expanded': 39, 'Max tree depth': 28, 'Max nodes in memory:': 47, 'Max frontier size': 5}, 'A_star': {'Path cost': 19, 'Nodes expanded': 53, 'Max tree depth': 18, 'Max nodes in memory:': 64, 'Max frontier size': 8}}), ('medium_maze', {'DFS': {'Path cost': 29, 'Nodes expanded': 53, 'Max tree depth': 29, 'Max nodes in memory:': 56, 'Max frontier size': 4}, 'BFS': {'Path cost': 19, 'Nodes expanded': 90, 'Max tree depth': 18, 'Max nodes in memory:': 94, 'Max frontier size': 9}, 'GBFS': {'Path cost': 29, 'Nodes expanded': 39, 'Max tree depth': 28, 'Max nodes in memory:': 47, 'Max frontier size': 5}, 'A_star': {'Path cost': 19, 'Nodes expanded': 53, 'Max tree depth': 18, 'Max nodes in memory:': 64, 'Max frontier size': 8}}), ('large_maze', {'DFS': {'Path cost': 29, 'Nodes expanded': 53, 'Max tree depth': 29, 'Max nodes in memory:': 56, 'Max frontier size': 4}, 'BFS': {'Path cost': 19, 'Nodes expanded': 90, 'Max tree depth': 18, 'Max nodes in memory:': 94, 'Max frontier size': 9}, 'GBFS': {'Path cost': 29, 'Nodes expanded': 39, 'Max tree depth': 28, 'Max nodes in memory:': 47, 'Max frontier size': 5}, 'A_star': {'Path cost': 19, 'Nodes expanded': 53, 'Max tree depth': 18, 'Max nodes in memory:': 64, 'Max frontier size': 8}}), ('open_maze', {'DFS': {'Path cost': 29, 'Nodes expanded': 53, 'Max tree depth': 29, 'Max nodes in memory:': 56, 'Max frontier size': 4}, 'BFS': {'Path cost': 19, 'Nodes expanded': 90, 'Max tree depth': 18, 'Max nodes in memory:': 94, 'Max frontier size': 9}, 'GBFS': {'Path cost': 29, 'Nodes expanded': 39, 'Max tree depth': 28, 'Max nodes in memory:': 47, 'Max frontier size': 5}, 'A_star': {'Path cost': 19, 'Nodes expanded': 53, 'Max tree depth': 18, 'Max nodes in memory:': 64, 'Max frontier size': 8}}), ('wall_maze', {'DFS': {'Path cost': 29, 'Nodes expanded': 53, 'Max tree depth': 29, 'Max nodes in memory:': 56, 'Max frontier size': 4}, 'BFS': {'Path cost': 19, 'Nodes expanded': 90, 'Max tree depth': 18, 'Max nodes in memory:': 94, 'Max frontier size': 9}, 'GBFS': {'Path cost': 29, 'Nodes expanded': 39, 'Max tree depth': 28, 'Max nodes in memory:': 47, 'Max frontier size': 5}, 'A_star': {'Path cost': 19, 'Nodes expanded': 53, 'Max tree depth': 18, 'Max nodes in memory:': 64, 'Max frontier size': 8}}), ('loops_maze', {'DFS': {'Path cost': 29, 'Nodes expanded': 53, 'Max tree depth': 29, 'Max nodes in memory:': 56, 'Max frontier size': 4}, 'BFS': {'Path cost': 19, 'Nodes expanded': 90, 'Max tree depth': 18, 'Max nodes in memory:': 94, 'Max frontier size': 9}, 'GBFS': {'Path cost': 29, 'Nodes expanded': 39, 'Max tree depth': 28, 'Max nodes in memory:': 47, 'Max frontier size': 5}, 'A_star': {'Path cost': 19, 'Nodes expanded': 53, 'Max tree depth': 18, 'Max nodes in memory:': 64, 'Max frontier size': 8}}), ('empty_maze', {'DFS': {'Path cost': 29, 'Nodes expanded': 53, 'Max tree depth': 29, 'Max nodes in memory:': 56, 'Max frontier size': 4}, 'BFS': {'Path cost': 19, 'Nodes expanded': 90, 'Max tree depth': 18, 'Max nodes in memory:': 94, 'Max frontier size': 9}, 'GBFS': {'Path cost': 29, 'Nodes expanded': 39, 'Max tree depth': 28, 'Max nodes in memory:': 47, 'Max frontier size': 5}, 'A_star': {'Path cost': 19, 'Nodes expanded': 53, 'Max tree depth': 18, 'Max nodes in memory:': 64, 'Max frontier size': 8}}), ('empty_maze_2', {'DFS': {'Path cost': 29, 'Nodes expanded': 53, 'Max tree depth': 29, 'Max nodes in memory:': 56, 'Max frontier size': 4}, 'BFS': {'Path cost': 19, 'Nodes expanded': 90, 'Max tree depth': 18, 'Max nodes in memory:': 94, 'Max frontier size': 9}, 'GBFS': {'Path cost': 29, 'Nodes expanded': 39, 'Max tree depth': 28, 'Max nodes in memory:': 47, 'Max frontier size': 5}, 'A_star': {'Path cost': 19, 'Nodes expanded': 53, 'Max tree depth': 18, 'Max nodes in memory:': 64, 'Max frontier size': 8}})]\n"
          ]
        }
      ],
      "source": [
        "print(final_results)"
      ]
    },
    {
      "cell_type": "markdown",
      "metadata": {
        "id": "ayBZs63ZyqTy"
      },
      "source": [
        "\n",
        "\n",
        "1. __Small maze__\n",
        "\n",
        "| algorithm | path cost | # of nodes expanded | max tree depth | max # of nodes in memory | max frontier size |\n",
        "|-----------|-----------|----------------|----------------|---------------|-------------------|\n",
        "| DFS       | 19        |    920          |         19     |           119    |             16      |\n",
        "| BFS       |  19       |   90          |      18        |        94       |        9           |\n",
        "| GBS       |  29       |        39      |       28       |           47    |          5         |\n",
        "| A*        |  19       |        53      |        18      |          64     |       8            |\n",
        "| DFS_2       |  29       |        53      |        29      |          56     |       4            |\n",
        "\n",
        "2. __Medium Maze__\n",
        "\n",
        "| algorithm            | path cost | # of nodes expanded | max tree depth  | max # of nodes in memory | max frontier size |\n",
        "|----------------------|-----------|---------------------|-----------------|--------------------------|-------------------|\n",
        "| DFS                  | 68        | 15429               | 68              | 802                      | 50                |\n",
        "| BFS                  | 68        | 266                 | 67              | 272                      | 8                 |\n",
        "| GBS                 | 74        | 78                  | 73              | 84                       | 4                 |\n",
        "| A*                   | 68        | 222                 | 67              | 233                      | 8                 |\n",
        "| DFS_2 | 162   | 254                 | 162             | 264                      | 11                |\n",
        "\n",
        "3. __Large Maze__\n",
        "\n",
        "| algorithm            | path cost | # of nodes expanded | max tree depth  | max # of nodes in memory | max frontier size |\n",
        "|----------------------|-----------|---------------------|-----------------|--------------------------|-------------------|\n",
        "| DFS                  | 14        | 535220              | 14              | 233125                   | 35                |\n",
        "| BFS                  | 14        | 133                 | 13              | 145                      | 19                |\n",
        "| GBS                 | 14        | 14                  | 13              | 52                       | 21                |\n",
        "| A*                   | 14        | 41                  | 13              | 83                       | 22                |\n",
        "| DFS_2 | 48   | 123                 | 82              | 157                      | 63                |\n",
        "\n",
        "\n",
        "4. __Open Maze__\n",
        "\n",
        "\n",
        "| algorithm            | path cost | # of nodes expanded | max tree depth  | max # of nodes in memory | max frontier size |\n",
        "|----------------------|-----------|---------------------|-----------------|--------------------------|-------------------|\n",
        "| DFS                  | N/A |           N/A          |               N/A      |             N/A             |      N/A             |\n",
        "| BFS                  | 54        | 679                 | 53              | 688                      | 23                |\n",
        "| GBS                 | 66        | 83                  | 65              | 225                      | 72                |\n",
        "| A*                   | 54        | 534                 | 53              | 575                      | 23                |\n",
        "| DFS_2 | 226   | 226                 | 226             | 421                      | 196               |\n",
        "\n",
        "\n",
        "5. __Wall Maze__\n",
        "\n",
        "| algorithm            | path cost | # of nodes expanded | max tree depth  | max # of nodes in memory | max frontier size |\n",
        "|----------------------|-----------|---------------------|-----------------|--------------------------|-------------------|\n",
        "| DFS                  | 14        | 125385              | 14              | 68298                    | 35                |\n",
        "| BFS                  | 14        | 85                  | 13              | 91                       | 11                |\n",
        "| GBS                 | 20        | 21                  | 19              | 65                       | 23                |\n",
        "| A*                   | 14        | 55                  | 13              | 113                      | 30                |\n",
        "| DFS_2 | 20   | 69                  | 42              | 91                       | 39                |\n",
        "\n",
        "\n",
        "\n",
        "6. __Loops Maze__\n",
        "\n",
        "| algorithm            | path cost | # of nodes expanded | max tree depth  | max # of nodes in memory | max frontier size |\n",
        "|----------------------|-----------|---------------------|-----------------|--------------------------|-------------------|\n",
        "| DFS                  | 23        | 78677               | 23              | 18080                    | 38                |\n",
        "| BFS                  | 23        | 70                  | 22              | 73                       | 7                 |\n",
        "| GBS                 | 23        | 51                  | 22              | 69                       | 10                |\n",
        "| A*                   | 23        | 58                  | 22              | 66                       | 6                 |\n",
        "| DFS_2 | 37   | 50                  | 38              | 61                       | 13                |\n",
        "\n",
        "7. __Empty Maze__\n",
        "\n",
        "| algorithm            | path cost | # of nodes expanded | max tree depth  | max # of nodes in memory | max frontier size |\n",
        "|----------------------|-----------|---------------------|-----------------|--------------------------|-------------------|\n",
        "| DFS                  | 14        | 204498              | 14              | 123014                   | 36                |\n",
        "| BFS                  | 14        | 92                  | 13              | 98                       | 12                |\n",
        "| GBS                 | 14        | 14                  | 13              | 54                       | 21                |\n",
        "| A*                   | 14        | 62                  | 13              | 120                      | 30                |\n",
        "| DFS_2 | 34   | 62                  | 52              | 98                       | 45                |\n",
        "\n",
        "\n",
        "8. __Empty Maze_2__\n",
        "\n",
        "| algorithm            | path cost | # of nodes expanded | max tree depth  | max # of nodes in memory | max frontier size |\n",
        "|----------------------|-----------|---------------------|-----------------|--------------------------|-------------------|\n",
        "| DFS                  | 14        | 240352              | 14              | 123021                   | 34                |\n",
        "| BFS                  | 14        | 92                  | 13              | 98                       | 12                |\n",
        "| GBS                 | 14        | 14                  | 13              | 62                       | 26                |\n",
        "| A*                   | 14        | 62                  | 13              | 120                      | 30                |\n",
        "| DFS_2 | 34   | 46                  | 45              | 84                       | 40                |\n"
      ]
    },
    {
      "cell_type": "markdown",
      "metadata": {
        "id": "EaE1X8CiyqTy"
      },
      "source": [
        "Present the results as using charts (see [Python Code Examples/charts and tables](../HOWTOs/charts_and_tables.ipynb))."
      ]
    },
    {
      "cell_type": "code",
      "execution_count": 486,
      "metadata": {
        "colab": {
          "base_uri": "https://localhost:8080/",
          "height": 707
        },
        "id": "Ow5J_4FKyqT2",
        "outputId": "5190ee64-0fa2-4e53-f5bd-25247b664f2d"
      },
      "outputs": [
        {
          "data": {
            "image/png": "[encoded data removed]",
            "text/plain": [
              "<Figure size 1200x700 with 6 Axes>"
            ]
          },
          "metadata": {},
          "output_type": "display_data"
        }
      ],
      "source": [
        "import matplotlib.pyplot as plt\n",
        "import numpy as np\n",
        "\n",
        "# to store metrics:\n",
        "metric_data = {\n",
        "    \"Path cost\": [],\n",
        "    \"Nodes expanded\": [],\n",
        "    \"Max tree depth\": [],\n",
        "    \"Max nodes in memory:\": [], # initially mad a typo in the tracker.track() method\n",
        "    \"Max frontier size\": []\n",
        "}\n",
        "for maze, algorithms in final_results:\n",
        "    for algorithm, metrics in algorithms.items():\n",
        "        for metric, value in metrics.items():\n",
        "            metric_data[metric].append(value)\n",
        "\n",
        "fig, axes = plt.subplots(2, 3, figsize=(12, 7))\n",
        "axes = axes.ravel()\n",
        "\n",
        "for i, (metric, values) in enumerate(metric_data.items()):\n",
        "    ax = axes[i]\n",
        "    avg_values = np.mean(np.array(values).reshape(len(final_results), -1), axis=0)\n",
        "    ax.bar(range(len(avg_values)), avg_values)\n",
        "    ax.set_title(f'{metric}')\n",
        "    ax.set_xlabel('Algorithms')\n",
        "    ax.set_ylabel(metric)\n",
        "    ax.set_xticks(range(len(avg_values)))\n",
        "    ax.set_xticklabels(['DFS', 'BFS', 'GBFS', 'A_star'])\n",
        "\n",
        "plt.tight_layout()\n",
        "plt.show()"
      ]
    },
    {
      "cell_type": "markdown",
      "metadata": {
        "id": "dxLjIqCPyqT2"
      },
      "source": [
        "Discuss the most important lessons you have learned from implementing the different search strategies."
      ]
    },
    {
      "cell_type": "markdown",
      "metadata": {
        "id": "KYNjPu4iy_v6"
      },
      "source": []
    },
    {
      "cell_type": "code",
      "execution_count": null,
      "metadata": {
        "id": "n_UU9wW-yqT2"
      },
      "outputs": [],
      "source": [
        "# Add discussion"
      ]
    },
    {
      "cell_type": "markdown",
      "metadata": {
        "id": "fxLwRFFwy-bS"
      },
      "source": [
        "---\n",
        "Assignment adapted from [Michael Hahsler](https://github.com/mhahsler/CS7320-AI) under [CC BY-SA](https://creativecommons.org/licenses/by-sa/4.0/deed.en) license."
      ]
    }
  ],
  "metadata": {
    "colab": {
      "provenance": []
    },
    "kernelspec": {
      "display_name": "Python 3 (ipykernel)",
      "language": "python",
      "name": "python3"
    },
    "language_info": {
      "codemirror_mode": {
        "name": "ipython",
        "version": 3
      },
      "file_extension": ".py",
      "mimetype": "text/x-python",
      "name": "python",
      "nbconvert_exporter": "python",
      "pygments_lexer": "ipython3",
      "version": "3.10.12"
    }
  },
  "nbformat": 4,
  "nbformat_minor": 0
}
