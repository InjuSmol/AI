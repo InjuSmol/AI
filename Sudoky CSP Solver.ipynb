{
  "cells": [
    {
      "cell_type": "markdown",
      "metadata": {
        "id": "wdtvm8lB2o_b"
      },
      "source": [
        "## Z3 and Z3py resources\n",
        "\n",
        "For this problem you will be solving constraint satisfaction and logic problems using the Z3 SMT solver via the z3py python library.\n",
        "\n",
        "The demo code using z3py we went over in class is here: [link](https://drive.google.com/drive/folders/16HQXiwdcaman1IpC7H6vSJ71QQQ-aL2z?usp=sharing)\n",
        "\n",
        "Online help for z3py is here: [link](https://ericpony.github.io/z3py-tutorial/guide-examples.htm)"
      ]
    },
    {
      "cell_type": "markdown",
      "metadata": {
        "id": "F6mYrFaM2o_b"
      },
      "source": [
        "## Installation\n",
        "\n",
        "We first install to get the z3solver library using pip and test that works."
      ]
    },
    {
      "cell_type": "code",
      "source": [
        "!pip install z3-solver"
      ],
      "metadata": {
        "id": "EoLs1AWw38Tj",
        "outputId": "4ac058a7-1d0e-46ac-de0d-61667c59f72a",
        "colab": {
          "base_uri": "https://localhost:8080/"
        }
      },
      "execution_count": null,
      "outputs": [
        {
          "output_type": "stream",
          "name": "stdout",
          "text": [
            "Collecting z3-solver\n",
            "  Downloading z3_solver-4.14.1.0-py3-none-manylinux_2_17_x86_64.manylinux2014_x86_64.whl.metadata (602 bytes)\n",
            "Downloading z3_solver-4.14.1.0-py3-none-manylinux_2_17_x86_64.manylinux2014_x86_64.whl (29.5 MB)\n",
            "\u001b[2K   \u001b[90m━━━━━━━━━━━━━━━━━━━━━━━━━━━━━━━━━━━━━━━━\u001b[0m \u001b[32m29.5/29.5 MB\u001b[0m \u001b[31m27.7 MB/s\u001b[0m eta \u001b[36m0:00:00\u001b[0m\n",
            "\u001b[?25hInstalling collected packages: z3-solver\n",
            "Successfully installed z3-solver-4.14.1.0\n"
          ]
        }
      ]
    },
    {
      "cell_type": "code",
      "execution_count": null,
      "metadata": {
        "id": "xnQTztNX2o_c",
        "outputId": "0b176c6f-5c8d-485e-cb44-c1598a62c077",
        "colab": {
          "base_uri": "https://localhost:8080/"
        }
      },
      "outputs": [
        {
          "output_type": "stream",
          "name": "stdout",
          "text": [
            "[y = 0, x = 7]\n"
          ]
        }
      ],
      "source": [
        "# Run the first example from the z3py guide as a test: https://ericpony.github.io/z3py-tutorial/guide-examples.htm\n",
        "from z3 import *\n",
        "\n",
        "x = Int('x')\n",
        "y = Int('y')\n",
        "solve(x > 2, y < 10, x + 2*y == 7)"
      ]
    },
    {
      "cell_type": "markdown",
      "source": [
        "# Sudoku as a constraint satisfaction problem (CSP)\n",
        "\n",
        "Sudoku is a popular number-placement puzzle that originated in France in the end of the 19th century.  Modern Sudoku was likely invented by Howard Garns from Connersville, Indiana and was first published in 1979 under the name *Number Place*. The objective of the puzzle is to place numbers 1-9 on a 9$\\times$9 grid, such that each number occurs only once in every row, every column, and every of the nine 3$\\times$3 sub-grids that compose the main grid.\n",
        "Sudoku puzzles are grids that have been partially occupied with numbers. The task is then to occupy the remaining fields in such a way that the constraints on rows, columns, and sub-grids are satisfied.\n",
        "For more information about Sudoku refer to its Wikipedia page at http://en.wikipedia.org/wiki/Sudoku.\n",
        "\n",
        "This problem has two parts. In the first part, you will write the boolean constraints in mathematical notation for solving a Sudoku puzzle. In the second part, you will write code and invoke the Z3 solver to solve the Sudoku instance and answer various questions about the solution.\n",
        "\n",
        "## Part 1 (Constraints)\n",
        "In text, define and write constraints over **boolean** variables corresponding to each number being in each cell. For example, you may use $X_{i,j}^k$ as teh variable that is true if and only if the number $k$ is in row $i$ and column $j$ (the variable is true if $k$ is in cell $(i, j)$ and false otherwise). Now write the following boolean constraints over these variables:\n",
        "\n",
        "* Write the boolean formula for the constraints that the number 5 can occur at most once in the first row. **(3 point)**\n",
        "* Write the boolean formula for the constraints that the number 6 can occur at most once in the first column. **(3 point)**\n",
        "* Write the boolean formula for the constraints that the number 9 can occur at most once in the top left 3$\\times$3 sub-grid. **(4 point)**"
      ],
      "metadata": {
        "id": "9J3lpQvP52jm"
      }
    },
    {
      "cell_type": "markdown",
      "source": [
        "Solution:"
      ],
      "metadata": {
        "id": "ju3Q1ewW7aeu"
      }
    },
    {
      "cell_type": "markdown",
      "source": [
        "1) for all n,m such that 1 <= n < m <= 9: ¬($X_{1,n}^5$ ∧ $X_{1,m}^5$)\n",
        "\n",
        "2) for all n,m such that 1 <= n < m <= 9: ¬($X_{n,1}^6$ ∧ $X_{m,1}^6$)\n",
        "\n",
        "3) for all (n1, m1) ≠ (n2, m2) with 1 ≤ n1, n2 ≤ 3 and 1 ≤ m1, m2 ≤ 3: ¬($X_{n1,m1}^9$ ∧ $X_{n2,m2}^9$)"
      ],
      "metadata": {
        "id": "iFptkI3f5S0I"
      }
    },
    {
      "cell_type": "markdown",
      "source": [
        "All the constraints for the CSP Sudoky problem:\n",
        "\n",
        "1.   Each cell is either empty or has one value in [1..9]\n",
        "2.   Columns constraints: each number appears exactly once per column\n",
        "3.   Row constraints: each number appears exactly once per row\n",
        "4.   3x3 boxes constraints: each number appears exactly once per 3x3 block"
      ],
      "metadata": {
        "id": "r5aWUAHVHEQh"
      }
    },
    {
      "cell_type": "markdown",
      "source": [
        "## Part 2 (Coding)\n",
        "\n",
        "Encode the above constraints and all the other ones as a CSP using z3py and solve the Sudoku instance given in the figure below. **Use only boolean variables** and do not use the **Distinct** function.\n",
        "\n",
        "* Provide the code to solve that solves the given problem instance using z3py and only boolean variables. The code should output a reasonable visualization of the solution, for example printed in text. **(10 points)**\n",
        "\n",
        "<img src=\"https://raw.githubusercontent.com/stanleybak/CS7320-AI/master/Knowledge-based/sudoku1.jpg\" width=\"400\"/>\n",
        "\n"
      ],
      "metadata": {
        "id": "y7kArKLH7eOR"
      }
    },
    {
      "cell_type": "code",
      "source": [
        "# given problem:\n",
        "puzzle = [\n",
        "    [0,1,0, 4,0,2, 0,5,0],\n",
        "    [5,0,0, 0,0,0, 0,0,6],\n",
        "    [0,0,0, 3,0,1, 0,0,0],\n",
        "\n",
        "    [7,0,5, 0,0,0, 4,0,8],\n",
        "    [0,0,0, 0,0,0, 0,0,0],\n",
        "    [2,0,8, 0,0,0, 5,0,9],\n",
        "\n",
        "    [0,0,0, 9,0,6, 0,0,0],\n",
        "    [6,0,0, 0,0,0, 0,0,2],\n",
        "    [0,7,0, 1,0,3, 0,4,0],\n",
        "]\n"
      ],
      "metadata": {
        "id": "fV3YoyeFJkJg"
      },
      "execution_count": null,
      "outputs": []
    },
    {
      "cell_type": "code",
      "source": [
        "# z3py code to solve above Sudoku goes here. Do not use Int(*), only Bool(*)\n",
        "from z3 import *\n",
        "\n",
        "s = Solver()\n",
        "\n",
        "# Constraints:  k -> number, i -> row, j -> column\n",
        "X = [[[Bool(f\"X_{k}_{i}_{j}\") for j in range(9)] for i in range(9)] for k in range(9)]\n",
        "\n",
        "for i in range(9):\n",
        "    for j in range(9):\n",
        "        num = puzzle[i][j]\n",
        "        if num != 0:\n",
        "            s.add(X[num - 1][i][j])\n",
        "\n",
        "#print(s)\n",
        "\n",
        "# 1. Each cell is either empty or has one value in [1..9] and the value appears only once:\n",
        "# Check for only one number in each of the cells:\n",
        "for i in range(9):\n",
        "    for j in range(9):\n",
        "        # At least one number in each cell:\n",
        "        s.add(Or([X[k][i][j] for k in range(9)]))\n",
        "        # At most one number in each ceel:\n",
        "        for k1 in range(9):\n",
        "            for k2 in range(k1 + 1, 9):\n",
        "                s.add(Not(And(X[k1][i][j], X[k2][i][j])))\n",
        "\n",
        "# 2. Rows constraints: each number appear exactly once per row:\n",
        "for k in range(9):\n",
        "    for i in range(9):\n",
        "        # At least once in the row:\n",
        "        s.add(Or([X[k][i][j] for j in range(9)]))\n",
        "        # At most once in the row:\n",
        "        for j1 in range(9):\n",
        "            for j2 in range(j1 + 1, 9):\n",
        "                s.add(Not(And(X[k][i][j1], X[k][i][j2])))\n",
        "\n",
        "# 3. Column constraints: each number appears exactly once per column:\n",
        "for k in range(9):\n",
        "    for j in range(9):\n",
        "        s.add(Or([X[k][i][j] for i in range(9)]))\n",
        "        for i1 in range(9):\n",
        "            for i2 in range(i1 + 1, 9):\n",
        "                s.add(Not(And(X[k][i1][j], X[k][i2][j])))\n",
        "\n",
        "# 4. 3x3 boxes constraints: each number appears exactly once per 3x3 block:\n",
        "for k in range(9):\n",
        "    for box_i in range(3):\n",
        "        for box_j in range(3):\n",
        "            cells = []\n",
        "            for di in range(3):\n",
        "                for dj in range(3):\n",
        "                    i = 3 * box_i + di\n",
        "                    j = 3 * box_j + dj\n",
        "                    cells.append(X[k][i][j])\n",
        "            s.add(Or(cells))\n",
        "            for idx1 in range(9):\n",
        "                for idx2 in range(idx1 + 1, 9):\n",
        "                    s.add(Not(And(cells[idx1], cells[idx2])))\n",
        "#print(s)\n"
      ],
      "metadata": {
        "id": "UghnVSTS-kJi"
      },
      "execution_count": null,
      "outputs": []
    },
    {
      "cell_type": "code",
      "source": [
        "# Solution:\n",
        "s.push()\n",
        "\n",
        "if s.check() == sat:\n",
        "    m = s.model()\n",
        "    result = [[0 for _ in range(9)] for _ in range(9)]\n",
        "    for i in range(9):\n",
        "        for j in range(9):\n",
        "            for k in range(9):\n",
        "                if m.evaluate(X[k][i][j]):\n",
        "                    result[i][j] = k + 1\n",
        "    print(\"Solution:\")\n",
        "    for row in result:\n",
        "        print(\" \".join(str(num) for num in row))\n",
        "else:\n",
        "    print(\"No solution\")\n",
        "s.pop()"
      ],
      "metadata": {
        "colab": {
          "base_uri": "https://localhost:8080/"
        },
        "id": "OHHy-0fzI9mV",
        "outputId": "ae8651ea-d1b8-492b-ac84-81b2cb3ae391"
      },
      "execution_count": null,
      "outputs": [
        {
          "output_type": "stream",
          "name": "stdout",
          "text": [
            "Solution:\n",
            "3 1 9 4 6 2 8 5 7\n",
            "5 2 4 7 9 8 1 3 6\n",
            "8 6 7 3 5 1 9 2 4\n",
            "7 3 5 2 1 9 4 6 8\n",
            "1 9 6 8 4 5 2 7 3\n",
            "2 4 8 6 3 7 5 1 9\n",
            "4 5 3 9 2 6 7 8 1\n",
            "6 8 1 5 7 4 3 9 2\n",
            "9 7 2 1 8 3 6 4 5\n"
          ]
        }
      ]
    },
    {
      "cell_type": "markdown",
      "source": [
        "### Uniqueness\n",
        "Is your solution unique? Prove it with a Z3py solver or provide a second solution. **(5 points)**"
      ],
      "metadata": {
        "id": "FIkg9eI38VMG"
      }
    },
    {
      "cell_type": "code",
      "source": [
        "# To check if the solution we found is unique, we will add it as a constraint and try to finb another solution:\n",
        "\n",
        "different_solution = []\n",
        "\n",
        "for row in range(9):\n",
        "    for col in range(9):\n",
        "        number = result[row][col]\n",
        "        # no the same assignment for the same cell:\n",
        "        different_solution.append(Not(X[number - 1][row][col]))\n",
        "\n",
        "s.push() #save the solution\n",
        "\n",
        "s.add(Or(different_solution)) # at least one should be different\n",
        "\n",
        "if s.check() == sat:\n",
        "    print(\" not unique:\")\n",
        "    m2 = s.model()\n",
        "    for row in range(9):\n",
        "        line = \"\"\n",
        "        for col in range(9):\n",
        "            for num in range(9):\n",
        "                if m2.evaluate(X[num][row][col]):\n",
        "                    line += str(num + 1) + \" \"\n",
        "                    break\n",
        "        print(line.strip())\n",
        "else:\n",
        "    print(\"the solution is unique (didn't find another one)\")\n",
        "\n",
        "# recover the previous constraints:\n",
        "s.pop()\n"
      ],
      "metadata": {
        "id": "-ZacX6gz-4os",
        "colab": {
          "base_uri": "https://localhost:8080/"
        },
        "outputId": "889672e7-bab4-442f-e32b-a475fd22dcd9"
      },
      "execution_count": null,
      "outputs": [
        {
          "output_type": "stream",
          "name": "stdout",
          "text": [
            "the solution is unique (didn't find another one)\n"
          ]
        }
      ]
    },
    {
      "cell_type": "markdown",
      "source": [
        "### More Uniqueness\n",
        "If you delete the 1 in the top left box of the Sudoku problem above, how many unique solutions are there? Hint: should be fewer than 5000. **(5 points)**"
      ],
      "metadata": {
        "id": "Z6a18s5x-5Hw"
      }
    },
    {
      "cell_type": "code",
      "source": [
        "puzzle_2 = [\n",
        "    [0,0,0, 4,0,2, 0,5,0],\n",
        "    [5,0,0, 0,0,0, 0,0,6],\n",
        "    [0,0,0, 3,0,1, 0,0,0],\n",
        "\n",
        "    [7,0,5, 0,0,0, 4,0,8],\n",
        "    [0,0,0, 0,0,0, 0,0,0],\n",
        "    [2,0,8, 0,0,0, 5,0,9],\n",
        "\n",
        "    [0,0,0, 9,0,6, 0,0,0],\n",
        "    [6,0,0, 0,0,0, 0,0,2],\n",
        "    [0,7,0, 1,0,3, 0,4,0],\n",
        "]\n",
        "\n",
        "s_2 = Solver()\n",
        "\n",
        "# Constraints:  k -> number, i -> row, j -> column\n",
        "X = [[[Bool(f\"X_{k}_{i}_{j}\") for j in range(9)] for i in range(9)] for k in range(9)]\n",
        "\n",
        "for i in range(9):\n",
        "    for j in range(9):\n",
        "        num = puzzle_2[i][j]\n",
        "        if num != 0:\n",
        "            s_2.add(X[num - 1][i][j])\n",
        "\n",
        "# 1. Each cell is either empty or has one value in [1..9] and the value appears only once:\n",
        "# Check for only one number in each of the cells:\n",
        "for i in range(9):\n",
        "    for j in range(9):\n",
        "        # At least one number in each cell:\n",
        "        s_2.add(Or([X[k][i][j] for k in range(9)]))\n",
        "        # At most one number in each ceel:\n",
        "        for k1 in range(9):\n",
        "            for k2 in range(k1 + 1, 9):\n",
        "                s_2.add(Not(And(X[k1][i][j], X[k2][i][j])))\n",
        "\n",
        "# 2. Rows constraints: each number appear exactly once per row:\n",
        "for k in range(9):\n",
        "    for i in range(9):\n",
        "        # At least once in the row:\n",
        "        s_2.add(Or([X[k][i][j] for j in range(9)]))\n",
        "        # At most once in the row:\n",
        "        for j1 in range(9):\n",
        "            for j2 in range(j1 + 1, 9):\n",
        "                s_2.add(Not(And(X[k][i][j1], X[k][i][j2])))\n",
        "\n",
        "# 3. Column constraints: each number appears exactly once per column:\n",
        "for k in range(9):\n",
        "    for j in range(9):\n",
        "        s_2.add(Or([X[k][i][j] for i in range(9)]))\n",
        "        for i1 in range(9):\n",
        "            for i2 in range(i1 + 1, 9):\n",
        "                s_2.add(Not(And(X[k][i1][j], X[k][i2][j])))\n",
        "\n",
        "# 4. 3x3 boxes constraints: each number appears exactly once per 3x3 block:\n",
        "for k in range(9):\n",
        "    for box_i in range(3):\n",
        "        for box_j in range(3):\n",
        "            cells = []\n",
        "            for di in range(3):\n",
        "                for dj in range(3):\n",
        "                    i = 3 * box_i + di\n",
        "                    j = 3 * box_j + dj\n",
        "                    cells.append(X[k][i][j])\n",
        "            s_2.add(Or(cells))\n",
        "            for idx1 in range(9):\n",
        "                for idx2 in range(idx1 + 1, 9):\n",
        "                    s_2.add(Not(And(cells[idx1], cells[idx2])))\n",
        "\n",
        "\n",
        "count = 0\n",
        "max = 5000\n",
        "\n",
        "# keep checking for unique solutions:\n",
        "while s_2.check() == sat and count < max:\n",
        "    model = s_2.model()\n",
        "\n",
        "    # current solution:\n",
        "    current_grid = [[0 for _ in range(9)] for _ in range(9)]\n",
        "    for row in range(9):\n",
        "        for col in range(9):\n",
        "            for num in range(9):\n",
        "                if is_true(model.evaluate(X[num][row][col])):\n",
        "                    current_grid[row][col] = num + 1\n",
        "\n",
        "    # block this solution so that it is not added again:\n",
        "    different_cells = []\n",
        "    for row in range(9):\n",
        "        for col in range(9):\n",
        "            num = current_grid[row][col]\n",
        "            different_cells.append(Not(X[num - 1][row][col]))\n",
        "\n",
        "    s_2.add(Or(different_cells))\n",
        "    count += 1\n",
        "\n",
        "print(\"Unique solutions:\", count)\n"
      ],
      "metadata": {
        "id": "5_2fNgND_CB4",
        "colab": {
          "base_uri": "https://localhost:8080/"
        },
        "outputId": "f30c7778-15ee-4ab5-8dab-b3b972594212"
      },
      "execution_count": null,
      "outputs": [
        {
          "output_type": "stream",
          "name": "stdout",
          "text": [
            "Unique solutions: 200\n"
          ]
        }
      ]
    },
    {
      "cell_type": "markdown",
      "source": [
        "# Miracle Sudoku\n",
        "\n",
        "Using z3py and only boolean variables, solve the Miracle Sudoku ([spoiler](https://www.youtube.com/watch?v=yKf9aUIxdb4)).\n",
        "In this puzzle normal Sudoku rules apply in addition to the following rules:\n",
        "* Any two cells separated by a knight's move from chess (moving forward two boxes and over one, in any direction) cannot contain the same digit (see image below).\n",
        "* Any two cells separated by a king's move from chess (one box in any direction including diagonals) cannot contain the same digit.\n",
        "* Any two orthogonally adjacent (up, down, left, or right) cells cannot contain consecutive digits."
      ],
      "metadata": {
        "id": "6nF9g7Ca_SJ1"
      }
    },
    {
      "cell_type": "markdown",
      "source": [
        "### Knight's move constraint image\n",
        "<img src=\"https://raw.githubusercontent.com/stanleybak/CS7320-AI/master/Knowledge-based/knights.jpg\" width=\"400\"/>\n",
        "\n",
        "The knight's move constraint would mean the yellow boxes cannot contain a 1.\n"
      ],
      "metadata": {
        "id": "wwjCVYCiAKXq"
      }
    },
    {
      "cell_type": "markdown",
      "source": [
        "## Miracle Sudoku Starting Information\n",
        "Provide the code to solve the puzzle given below. The code should output a reasonable visualization of the solution, for example using text. **(10 points)**\n",
        "\n",
        "<img src=\"https://raw.githubusercontent.com/stanleybak/CS7320-AI/master/Knowledge-based/miracle.jpg\" width=\"400\"/>"
      ],
      "metadata": {
        "id": "S9P6BThtAMv3"
      }
    },
    {
      "cell_type": "code",
      "source": [
        "# Solution code for Miracle Sudoku using z3py\n",
        "puzzle_3 = [\n",
        "    [0,0,0, 0,0,0, 0,0,0],\n",
        "    [0,0,0, 0,0,0, 0,0,0],\n",
        "    [0,0,0, 0,0,0, 0,0,0],\n",
        "\n",
        "    [0,0,0, 0,0,0, 0,0,0],\n",
        "    [0,0,1, 0,0,0, 0,0,0],\n",
        "    [0,0,0, 0,0,0, 2,0,0],\n",
        "\n",
        "    [0,0,0, 0,0,0, 0,0,0],\n",
        "    [0,0,0, 0,0,0, 0,0,0],\n",
        "    [0,0,0, 0,0,0, 0,0,0],\n",
        "]\n",
        "\n",
        "\n",
        "s_3 = Solver()\n",
        "\n",
        "# Constraints:  k -> number, i -> row, j -> column\n",
        "X = [[[Bool(f\"X_{k}_{i}_{j}\") for j in range(9)] for i in range(9)] for k in range(9)]\n",
        "\n",
        "for i in range(9):\n",
        "    for j in range(9):\n",
        "        num = puzzle_3[i][j]\n",
        "        if num != 0:\n",
        "            s_3.add(X[num - 1][i][j])\n",
        "\n",
        "#print(s)\n",
        "\n",
        "# 1. Each cell is either empty or has one value in [1..9] and the value appears only once:\n",
        "# Check for only one number in each of the cells:\n",
        "for i in range(9):\n",
        "    for j in range(9):\n",
        "        # At least one number in each cell:\n",
        "        s_3.add(Or([X[k][i][j] for k in range(9)]))\n",
        "        # At most one number in each ceel:\n",
        "        for k1 in range(9):\n",
        "            for k2 in range(k1 + 1, 9):\n",
        "                s_3.add(Not(And(X[k1][i][j], X[k2][i][j])))\n",
        "\n",
        "# 2. Rows constraints: each number appear exactly once per row:\n",
        "for k in range(9):\n",
        "    for i in range(9):\n",
        "        # At least once in the row:\n",
        "        s_3.add(Or([X[k][i][j] for j in range(9)]))\n",
        "        # At most once in the row:\n",
        "        for j1 in range(9):\n",
        "            for j2 in range(j1 + 1, 9):\n",
        "                s_3.add(Not(And(X[k][i][j1], X[k][i][j2])))\n",
        "\n",
        "# 3. Column constraints: each number appears exactly once per column:\n",
        "for k in range(9):\n",
        "    for j in range(9):\n",
        "        s_3.add(Or([X[k][i][j] for i in range(9)]))\n",
        "        for i1 in range(9):\n",
        "            for i2 in range(i1 + 1, 9):\n",
        "                s_3.add(Not(And(X[k][i1][j], X[k][i2][j])))\n",
        "\n",
        "# 4. 3x3 boxes constraints: each number appears exactly once per 3x3 block:\n",
        "for k in range(9):\n",
        "    for box_i in range(3):\n",
        "        for box_j in range(3):\n",
        "            cells = []\n",
        "            for di in range(3):\n",
        "                for dj in range(3):\n",
        "                    i = 3 * box_i + di\n",
        "                    j = 3 * box_j + dj\n",
        "                    cells.append(X[k][i][j])\n",
        "            s_3.add(Or(cells))\n",
        "            for idx1 in range(9):\n",
        "                for idx2 in range(idx1 + 1, 9):\n",
        "                    s_3.add(Not(And(cells[idx1], cells[idx2])))\n",
        "\n",
        "# New constraints for the s_3 solver:\n",
        "\n",
        "# Knight's move constraints:\n",
        "knight_moves = [(-2, -1),(-1, -2),(-2, 1),(-1, 2),(1, -2),(2, -1),(1, 2),(2, 1)]\n",
        "\n",
        "for r in range(9):\n",
        "    for c in range(9):\n",
        "        for dr, dc in knight_moves:\n",
        "            r2, c2 = r + dr, c + dc\n",
        "            if 0 <= r2 < 9 and 0 <= c2 < 9:\n",
        "                for d in range(9):\n",
        "                    s_3.add(Or(Not(X[d][r][c]), Not(X[d][r2][c2])))\n",
        "\n",
        "# Kings moves constraints:\n",
        "king_moves = [(-1, -1),(-1, 0),(-1, 1),(0, -1),(0, 1),(1, -1),(1, 0),(1, 1)]\n",
        "\n",
        "for r in range(9):\n",
        "    for c in range(9):\n",
        "        for dr, dc in king_moves:\n",
        "            r2, c2 = r + dr, c + dc\n",
        "            if 0 <= r2 < 9 and 0 <= c2 < 9:\n",
        "                for d in range(9):\n",
        "                    s_3.add(Or(Not(X[d][r][c]), Not(X[d][r2][c2])))\n",
        "\n",
        "# Ortogonal constraints:\n",
        "for r in range(9):\n",
        "    for c in range(9):\n",
        "        for dr, dc in [(-1, 0), (1, 0), (0, -1), (0, 1)]:\n",
        "            r2, c2 = r + dr, c + dc\n",
        "            if 0 <= r2 < 9 and 0 <= c2 < 9:\n",
        "                for d in range(9):\n",
        "                    if d > 0:\n",
        "                        s_3.add(Or(Not(X[d][r][c]), Not(X[d - 1][r2][c2])))\n",
        "                    if d < 8:\n",
        "                        s_3.add(Or(Not(X[d][r][c]), Not(X[d + 1][r2][c2])))\n",
        "\n",
        "# solve:\n",
        "if s_3.check() == sat:\n",
        "    model = s_3.model()\n",
        "    solution = [[0 for _ in range(9)] for _ in range(9)]\n",
        "    for r in range(9):\n",
        "        for c in range(9):\n",
        "            for d in range(9):\n",
        "                if is_true(model.evaluate(X[d][r][c])):\n",
        "                    solution[r][c] = d + 1\n",
        "    # print out the solution:\n",
        "    for row in solution:\n",
        "        print(' '.join(str(num) for num in row))\n",
        "else:\n",
        "    print(\"No solution\")"
      ],
      "metadata": {
        "id": "E56fFoT7CqpY",
        "colab": {
          "base_uri": "https://localhost:8080/"
        },
        "outputId": "72a8ec6b-2797-44a2-f993-6450125c0eb0"
      },
      "execution_count": null,
      "outputs": [
        {
          "output_type": "stream",
          "name": "stdout",
          "text": [
            "4 8 3 7 2 6 1 5 9\n",
            "7 2 6 1 5 9 4 8 3\n",
            "1 5 9 4 8 3 7 2 6\n",
            "8 3 7 2 6 1 5 9 4\n",
            "2 6 1 5 9 4 8 3 7\n",
            "5 9 4 8 3 7 2 6 1\n",
            "3 7 2 6 1 5 9 4 8\n",
            "6 1 5 9 4 8 3 7 2\n",
            "9 4 8 3 7 2 6 1 5\n"
          ]
        }
      ]
    },
    {
      "cell_type": "markdown",
      "source": [
        "---\n",
        "# Number Challenge in Z3py\n",
        "\n",
        "Write Z3py code to solve the Number Challenge puzzle shown below and print the solution found. You can use the `Int` type to create integer variables in z3py. **(20 points)**\n",
        "\n",
        "<img src=\"https://raw.githubusercontent.com/stanleybak/CS7320-AI/master/Knowledge-based/chal.jpg\" width=\"300\"/>"
      ],
      "metadata": {
        "id": "Pjlb4qe5XAGF"
      }
    },
    {
      "cell_type": "code",
      "source": [
        "from z3 import *\n",
        "\n",
        "# cells to fill:\n",
        "positions = [\n",
        "           (0,1), (0,2),\n",
        "    (1,0), (1,1), (1,2), (1,3),\n",
        "           (2,1), (2,2)\n",
        "]\n",
        "\n",
        "# Define the integer variables for each of the positions:\n",
        "cells = {(r, c): Int(f\"cell_{r}_{c}\") for (r, c) in positions}\n",
        "\n",
        "s_4 = Solver()\n",
        "\n",
        "# Each variable is in [1..8]:\n",
        "for var in cells.values():\n",
        "    s_4.add(And(var >= 1, var <= 8))\n",
        "\n",
        "# All values are unique:\n",
        "cell_vars = list(cells.values())\n",
        "for i in range(len(cell_vars)):\n",
        "    for j in range(i + 1, len(cell_vars)):\n",
        "        s_4.add(cell_vars[i] != cell_vars[j])\n",
        "\n",
        "# Consecutive numbers cant be adjacent (sides and diagonals):\n",
        "adjacent_offsets = [(-1,-1), (-1,0), (-1,1),\n",
        "                    ( 0,-1),         ( 0,1),\n",
        "                    ( 1,-1), ( 1,0), ( 1,1)]\n",
        "\n",
        "for (r1, c1) in positions:\n",
        "    for dr, dc in adjacent_offsets:\n",
        "        r2, c2 = r1 + dr, c1 + dc\n",
        "        if (r2, c2) in positions:\n",
        "            # avoid consequtive numbers:\n",
        "            s_4.add(Abs(cells[(r1,c1)] - cells[(r2,c2)]) != 1)\n",
        "\n",
        "# solve:\n",
        "if s_4.check() == sat:\n",
        "    m = s_4.model()\n",
        "    grid = [[\".\" for _ in range(4)] for _ in range(3)]\n",
        "    for (r, c) in positions:\n",
        "        grid[r][c] = str(m[cells[(r,c)]].as_long())\n",
        "    # print:\n",
        "    for row in grid:\n",
        "        print(\" \".join(row))\n",
        "else:\n",
        "    print(\"No solution\")\n"
      ],
      "metadata": {
        "id": "zsQCwxTbY5Sg",
        "outputId": "e14331c4-f27e-42b9-9130-70593a459a0d",
        "colab": {
          "base_uri": "https://localhost:8080/"
        }
      },
      "execution_count": null,
      "outputs": [
        {
          "output_type": "stream",
          "name": "stdout",
          "text": [
            ". 3 5 .\n",
            "7 1 8 2\n",
            ". 4 6 .\n"
          ]
        }
      ]
    },
    {
      "cell_type": "markdown",
      "source": [
        "\n",
        "\n",
        "\n",
        "---\n",
        "\n",
        "\n",
        "# Propositional Logic\n",
        "\n",
        "Next, we will use truth tables and z3py to prove logical entailment.\n",
        "\n",
        "## Truth Tables\n",
        "\n",
        "Using markdown tables and bold to show relevant rows, use the truth table method to show logical truths.\n",
        "\n",
        "\n",
        "### Example\n",
        "\n",
        "Here's an example that shows $p, p \\rightarrow q \\models q$.  \n",
        "\n",
        "| p | q | p -> q |\n",
        "|-------|-------|---------------------|\n",
        "| **T**     | **T**     | **T**                   |\n",
        "| T     | F     | F                   |\n",
        "| F     | T     | T                   |\n",
        "| F     | F     | T                   |\n",
        "\n",
        "Since $q$ is true whenever $p$ and $p \\rightarrow q$ are true, the expression is true.\n",
        "\n",
        "### Questions\n",
        "\n",
        "Prove that the following semantic entailment expressions are true by using the truth table approach.  Bold the appropriate rows **(7 point)**\n",
        "\n",
        " * $(p\\rightarrow q)\\rightarrow r, s \\rightarrow \\neg p, t, \\neg s, t \\rightarrow q \\models r$\n",
        " * $\\emptyset \\models q \\rightarrow (p \\rightarrow (p \\rightarrow (q \\rightarrow p)))$"
      ],
      "metadata": {
        "id": "sy985abkCrfR"
      }
    },
    {
      "cell_type": "markdown",
      "source": [
        "| p | q | r | s | t | p-> q | (p -> q) -> r | ¬p | s-> ¬p | ¬s | t -> q | r |               |\n",
        "|---|---|---|---|---|------|-------------|----|--------|-----|------|---|-----------------|\n",
        "| T | T | T | T | T | T | T | F | F | F | T | T |               |\n",
        "| T | T | T | T | F | T | T | F | F | F | T | T |               |\n",
        "| **T** | **T** | **T** | **F** | **T** | **T** | **T** | **F** | **T** | **T** | **T** | **T** | <<<< this row |\n",
        "| T | T | T | F | F | T | T | F | T | T | T | T |               |\n",
        "| T | T | F | T | T | T | F | F | F | F | T | F |               |\n",
        "| T | T | F | T | F | T | F | F | F | F | T | F |               |\n",
        "| T | T | F | F | T | T | F | F | T | T | T | F |               |\n",
        "| T | T | F | F | F | T | F | F | T | T | T | F |               |\n",
        "| T | F | T | T | T | F | T | F | F | F | F | T |               |\n",
        "| T | F | T | T | F | F | T | F | F | F | T | T |               |\n",
        "| T | F | T | F | T | F | T | F | T | T | F | T |               |\n",
        "| T | F | T | F | F | F | T | F | T | T | T | T |               |\n",
        "| T | F | F | T | T | F | T | F | F | F | F | F |               |\n",
        "| T | F | F | T | F | F | T | F | F | F | T | F |               |\n",
        "| T | F | F | F | T | F | T | F | T | T | F | F |               |\n",
        "| T | F | F | F | F | F | T | F | T | T | T | F |               |\n",
        "| F | T | T | T | T | T | T | T | T | F | T | T |               |\n",
        "| F | T | T | T | F | T | T | T | T | F | T | T |               |\n",
        "| **F** | **T** | **T** | **F** | **T** | **T** | **T** | **T** | **T** | **T** | **T** | **T** | <<<< this row |\n",
        "| F | T | T | F | F | T | T | T | T | T | T | T |               |\n",
        "| F | T | F | T | T | T | F | T | T | F | T | F |               |\n",
        "| F | T | F | T | F | T | F | T | T | F | T | F |               |\n",
        "| F | T | F | F | T | T | F | T | T | T | T | F |               |\n",
        "| F | T | F | F | F | T | F | T | T | T | T | F |               |\n",
        "| F | F | T | T | T | T | T | T | T | F | F | T |               |\n",
        "| F | F | T | T | F | T | T | T | T | F | T | T |               |\n",
        "| F | F | T | F | T | T | T | T | T | T | F | T |               |\n",
        "| F | F | T | F | F | T | T | T | T | T | T | T |               |\n",
        "| F | F | F | T | T | T | F | T | T | F | F | F |               |\n",
        "| F | F | F | T | F | T | F | T | T | F | T | F |               |\n",
        "| F | F | F | F | T | T | F | T | T | T | F | F |               |\n",
        "| F | F | F | F | F | T | F | T | T | T | T | F |               |"
      ],
      "metadata": {
        "id": "wyZsntivFueN"
      }
    },
    {
      "cell_type": "markdown",
      "source": [
        "\n",
        "| p | q | q → (p -> (p -> (q -> p))) |\n",
        "|---|---|--------------------------|\n",
        "| **T** | **T** | **T** |\n",
        "| **T** | **F** | **T** |\n",
        "| **F** | **T** | **T** |\n",
        "| **F** | **F** | **T** |\n"
      ],
      "metadata": {
        "id": "6YW5rEtzsQMQ"
      }
    },
    {
      "cell_type": "markdown",
      "source": [
        "\n",
        "\n",
        "---\n",
        "\n",
        "\n",
        " ## Logical Entailment using z3py\n",
        "\n",
        " Use Z3py to prove the above two entailments are true using satisfiability. See section 7.5 in the book for details. **(8 points)**"
      ],
      "metadata": {
        "id": "q7le6n2jFu4l"
      }
    },
    {
      "cell_type": "code",
      "source": [
        "from z3 import *\n",
        "# 1)\n",
        "# propositional variables:\n",
        "p, q, r, s, t = Bools('p q r s t')\n",
        "\n",
        "premises = [\n",
        "    Implies(Implies(p, q), r),\n",
        "    Implies(s, Not(p)),\n",
        "    t,\n",
        "    Not(s),\n",
        "    Implies(t, q)\n",
        "]\n",
        "\n",
        "# negate the conlcusion r to check satisfiability:\n",
        "formula = And(*premises, Not(r))\n",
        "\n",
        "solver = Solver()\n",
        "solver.add(formula)\n",
        "\n",
        "if solver.check() == unsat:\n",
        "    print(\"Entailment holds\")\n",
        "else:\n",
        "    print(\"Entailment doesnt hold\")\n"
      ],
      "metadata": {
        "id": "Z80-O6FGDtjp",
        "colab": {
          "base_uri": "https://localhost:8080/"
        },
        "outputId": "9a61d31b-c392-4d66-a48e-0dc1b321b59e"
      },
      "execution_count": null,
      "outputs": [
        {
          "output_type": "stream",
          "name": "stdout",
          "text": [
            "Entailment holds\n"
          ]
        }
      ]
    },
    {
      "cell_type": "code",
      "source": [
        "# 2)\n",
        "\n",
        "# propositional variables:\n",
        "p, q = Bools('p q')\n",
        "\n",
        "# expression to test:\n",
        "expr = Implies(q, Implies(p, Implies(p, Implies(q, p))))\n",
        "\n",
        "solver = Solver()\n",
        "solver.add(Not(expr))\n",
        "\n",
        "if solver.check() == unsat:\n",
        "    print(\"Entailment holds\")\n",
        "else:\n",
        "    print(\"Entailment doesnt hold\")\n"
      ],
      "metadata": {
        "colab": {
          "base_uri": "https://localhost:8080/"
        },
        "id": "68p2_ot4w8_b",
        "outputId": "61adb98f-f956-423b-ca54-9f4a9118dda9"
      },
      "execution_count": null,
      "outputs": [
        {
          "output_type": "stream",
          "name": "stdout",
          "text": [
            "Entailment holds\n"
          ]
        }
      ]
    }
  ],
  "metadata": {
    "kernelspec": {
      "display_name": "Python 3",
      "language": "python",
      "name": "python3"
    },
    "language_info": {
      "codemirror_mode": {
        "name": "ipython",
        "version": 3
      },
      "file_extension": ".py",
      "mimetype": "text/x-python",
      "name": "python",
      "nbconvert_exporter": "python",
      "pygments_lexer": "ipython3",
      "version": "3.8.5"
    },
    "colab": {
      "provenance": []
    }
  },
  "nbformat": 4,
  "nbformat_minor": 0
}