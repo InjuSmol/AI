{
  "cells": [
    {
      "cell_type": "markdown",
      "metadata": {
        "id": "0FyddoM3jF_d"
      },
      "source": [
        "# SBU CSE 352 - HW 1 -  Intelligent Agents: Reflex-Based Agents for the Vacuum-cleaner World\n",
        "\n",
        "---\n",
        "\n",
        "## Introduction\n",
        "\n",
        "In this assignment you will implement a simulator environment for an automatic vacuum cleaner robot, a set of different reflex-based agent programs, and perform a comparison study for cleaning a single room. Focus on the __cleaning phase__ which starts when the robot is activated and ends when the last dirty square in the room has been cleaned. Someone else will take care of the agent program needed to navigate back to the charging station after the room is clean.\n",
        "\n",
        "## PEAS description of the cleaning phase\n",
        "\n",
        "__Performance Measure:__ Each action costs 1 energy unit. The performance is measured as the sum of the energy units used to clean the whole room.\n",
        "\n",
        "__Environment:__ A room with $n \\times n$ squares where $n = 5$. Dirt is randomly placed on each square with probability $p = 0.2$. For simplicity, you can assume that the agent knows the size and the layout of the room (i.e., it knows $n$). To start, the agent is placed on a random square.\n",
        "\n",
        "__Actuators:__ The agent can clean the current square (action `suck`) or move to an adjacent square by going `north`, `east`, `south`, or `west`.\n",
        "\n",
        "__Sensors:__ Four bumper sensors, one for north, east, south, and west; a dirt sensor reporting dirt in the current square.  \n",
        "\n",
        "\n",
        "## The agent program for a simple randomized agent\n",
        "\n",
        "The agent program is a function that gets sensor information (the current percepts) as the arguments. The arguments are:\n",
        "\n",
        "* A dictionary with boolean entries for the for bumper sensors `north`, `east`, `west`, `south`. E.g., if the agent is on the north-west corner, `bumpers` will be `{\"north\" : True, \"east\" : False, \"south\" : False, \"west\" : True}`.\n",
        "* The dirt sensor produces a boolean.\n",
        "\n",
        "The agent returns the chosen action as a string.\n",
        "\n",
        "Here is an example implementation for the agent program of a simple randomized agent:  "
      ]
    },
    {
      "cell_type": "code",
      "execution_count": 1,
      "metadata": {
        "id": "2fDxkbCajF_f"
      },
      "outputs": [],
      "source": [
        "import numpy as np\n",
        "\n",
        "actions = [\"north\", \"east\", \"west\", \"south\", \"suck\"]\n",
        "\n",
        "def simple_randomized_agent(bumpers, dirty):\n",
        "    return np.random.choice(actions)"
      ]
    },
    {
      "cell_type": "code",
      "execution_count": 2,
      "metadata": {
        "colab": {
          "base_uri": "https://localhost:8080/",
          "height": 35
        },
        "id": "QrLrE1XPjF_g",
        "outputId": "3cd3a3b8-e74b-4304-d565-9ea4780cd5b4"
      },
      "outputs": [
        {
          "data": {
            "application/vnd.google.colaboratory.intrinsic+json": {
              "type": "string"
            },
            "text/plain": [
              "'south'"
            ]
          },
          "execution_count": 2,
          "metadata": {},
          "output_type": "execute_result"
        }
      ],
      "source": [
        "# define percepts (current location is NW corner and it is dirty)\n",
        "bumpers = {\"north\" : True, \"east\" : False, \"south\" : False, \"west\" : True}\n",
        "dirty = True\n",
        "\n",
        "# call agent program function with percepts and it returns an action\n",
        "simple_randomized_agent(bumpers, dirty)"
      ]
    },
    {
      "cell_type": "markdown",
      "metadata": {
        "id": "GB5AWgpmjF_g"
      },
      "source": [
        "__Note:__ This is not a rational intelligent agent. It ignores its sensors and may bump into a wall repeatedly or not clean a dirty square. You will be asked to implement rational agents below."
      ]
    },
    {
      "cell_type": "markdown",
      "metadata": {
        "id": "I_r7AxrIjF_g"
      },
      "source": [
        "## Simple environment example\n",
        "\n",
        "We implement a simple simulation environment that supplies the agent with its percepts.\n",
        "The simple environment is infinite in size (bumpers are always `False`) and every square is always dirty, even if the agent cleans it. The environment function returns a performance measure which is here the number of cleaned squares (since the room is infinite and all squares are constantly dirty, the agent can never clean the whole room as required in the PEAS description above). The energy budget of the agent is specified as `max_steps`."
      ]
    },
    {
      "cell_type": "code",
      "execution_count": 3,
      "metadata": {
        "id": "OdiZBgUqjF_h"
      },
      "outputs": [],
      "source": [
        "def simple_environment(agent, max_steps, verbose = True):\n",
        "    num_cleaned = 0\n",
        "\n",
        "    for i in range(max_steps):\n",
        "        dirty = True\n",
        "        bumpers = {\"north\" : False, \"south\" : False, \"west\" : False, \"east\" : False}\n",
        "\n",
        "        action = agent(bumpers, dirty)\n",
        "        if (verbose): print(\"step\", i , \"- action:\", action)\n",
        "\n",
        "        if (action == \"suck\"):\n",
        "            num_cleaned = num_cleaned + 1\n",
        "\n",
        "    return num_cleaned\n",
        "\n"
      ]
    },
    {
      "cell_type": "markdown",
      "metadata": {
        "id": "Tdt7xvQkjF_h"
      },
      "source": [
        "Do one simulation run with a simple randomized agent that has enough energy for 20 steps."
      ]
    },
    {
      "cell_type": "code",
      "execution_count": 4,
      "metadata": {
        "colab": {
          "base_uri": "https://localhost:8080/",
          "height": 0
        },
        "id": "YBwp8uTEjF_h",
        "outputId": "462892aa-76de-4f1e-aa8b-2fb4bff5311c"
      },
      "outputs": [
        {
          "name": "stdout",
          "output_type": "stream",
          "text": [
            "step 0 - action: west\n",
            "step 1 - action: west\n",
            "step 2 - action: west\n",
            "step 3 - action: south\n",
            "step 4 - action: north\n",
            "step 5 - action: south\n",
            "step 6 - action: suck\n",
            "step 7 - action: south\n",
            "step 8 - action: south\n",
            "step 9 - action: east\n",
            "step 10 - action: north\n",
            "step 11 - action: south\n",
            "step 12 - action: east\n",
            "step 13 - action: east\n",
            "step 14 - action: suck\n",
            "step 15 - action: west\n",
            "step 16 - action: west\n",
            "step 17 - action: south\n",
            "step 18 - action: east\n",
            "step 19 - action: north\n"
          ]
        },
        {
          "data": {
            "text/plain": [
              "2"
            ]
          },
          "execution_count": 4,
          "metadata": {},
          "output_type": "execute_result"
        }
      ],
      "source": [
        "simple_environment(simple_randomized_agent, max_steps = 20)"
      ]
    },
    {
      "cell_type": "markdown",
      "metadata": {
        "id": "G_qQj5brjF_i"
      },
      "source": [
        "# Tasks\n",
        "\n",
        "## General [10 Points]\n",
        "\n",
        "1. Your implementation can use libraries like math, numpy, scipy, but not libraries that implement intelligent agents or complete search algorithms. Try to keep the code simple! In this course, we want to learn about the algorithms and we often do not need to use object-oriented design, for example. If it makes your code more simple objects are okay, but try to keep the code as simple as possible.\n",
        "2. You notebook needs to be formatted professionally.\n",
        "    - Add additional markdown blocks for your description, comments in the code, add tables and use mathplotlib to produce charts where appropriate\n",
        "    - Do not show debugging output or include an excessive amount of output.\n",
        "    - Check that your PDF file is readable. For example, long lines are cut off in the PDF file. You don't have control over page breaks, so do not worry about these.\n",
        "3. Document your code. Add a short discussion of how your implementation works and your design choices.\n",
        "\n",
        "\n",
        "## Task 1: Implement a simulation environment [20 Points]\n",
        "\n",
        "The simple environment above is not very realistic. Your environment simulator needs to follow the PEAS description from above. It needs to:\n",
        "\n",
        "* Initialize the environment by storing the state of each square (clean/dirty) and making some dirty. ([Help with random numbers and arrays in Python](https://github.com/mhahsler/CS7320-AI/blob/master/HOWTOs/random_numbers_and_arrays.ipynb))\n",
        "* Keep track of the agent's position.\n",
        "* Call the agent function repeatedly and provide the agent function with the sensor inputs.  \n",
        "* React to the agent's actions. E.g, by removing dirt from a square or moving the agent around unless there is a wall in the way.\n",
        "* Keep track of the performance measure. That is, track the agent's actions until all dirty squares are clean and count the number of actions it takes the agent to complete the task.\n",
        "\n",
        "The easiest implementation for the environment is to hold an 2-dimensional array to represent if squares are clean or dirty and to call the agent function in a loop until all squares are clean or a predefined number of steps have been reached (i.e., the robot runs out of energy).\n",
        "\n",
        "The simulation environment should be a function like the `simple_environment()` and needs to work with the simple randomized agent program from above. **Use the same environment for all your agent implementations in the tasks below.**\n",
        "\n",
        "*Note on debugging:* Debugging is difficult. Make sure your environment prints enough information when you use `verbose = True`. Also, implementing a function that the environment can use to displays the room with dirt and the current position of the robot at every step is very useful.  "
      ]
    },
    {
      "cell_type": "code",
      "execution_count": 30,
      "metadata": {
        "id": "f_a8GJKYjF_i"
      },
      "outputs": [],
      "source": [
        "# Your code and description goes here\n",
        "def simulation_environment(agent, size, max_steps, verbose=True): # assuming the env space is always a square of size x size\n",
        "  is_clean = False\n",
        "  perf_measure = 0 # performance measure to be returned\n",
        "  room = [[False] * size for _ in range(size)] # room matrix to clean (boolean values)\n",
        "  to_clean = 0 # num of dirty cells to clean\n",
        "  agent_position = {\"row\": 0,\"column\":0}\n",
        "  bumper_sensors = {\"north\": True, \"west\": True, \"east\": False, \"south\": False} # initial position is NW corner\n",
        "\n",
        "  # method to update the agent's sensors according to its position:\n",
        "  def update_sensors():\n",
        "\n",
        "    if agent_position[\"row\"] == 0:\n",
        "      bumper_sensors[\"north\"] = True\n",
        "      bumper_sensors[\"south\"] = False\n",
        "    elif agent_position[\"row\"] == 4:\n",
        "      bumper_sensors[\"south\"] = True\n",
        "      bumper_sensors[\"north\"] = False\n",
        "    else:\n",
        "      bumper_sensors[\"north\"] = False\n",
        "      bumper_sensors[\"south\"] = False\n",
        "\n",
        "    if agent_position[\"column\"] == 0:\n",
        "      bumper_sensors[\"west\"] = True\n",
        "      bumper_sensors[\"east\"] = False\n",
        "    elif agent_position[\"column\"] == 4:\n",
        "      bumper_sensors[\"east\"] = True\n",
        "      bumper_sensors[\"west\"] = False\n",
        "    else:\n",
        "      bumper_sensors[\"west\"] = False\n",
        "      bumper_sensors[\"east\"] = False\n",
        "\n",
        "  def update_position(action):\n",
        "      if action == \"north\" and not bumper_sensors[\"north\"]:\n",
        "        agent_position[\"row\"] -= 1\n",
        "      elif action == \"south\" and not bumper_sensors[\"south\"]:\n",
        "        agent_position[\"row\"] += 1\n",
        "      elif action == \"west\" and not bumper_sensors[\"west\"]:\n",
        "        agent_position[\"column\"] -= 1\n",
        "      elif action == \"east\" and not bumper_sensors[\"east\"]:\n",
        "        agent_position[\"column\"] += 1\n",
        "\n",
        "  # Fill out the room matrix randomly with dirt:\n",
        "  for i in range(len(room)):\n",
        "    for j in range(len(room[0])):\n",
        "      room[i][j] = np.random.choice([True, False]) # make a cell either dirty or not\n",
        "      if room[i][i] == True:\n",
        "        to_clean +=1\n",
        "\n",
        "  i = 0\n",
        "  if verbose: print(\"Room to clean:\",room)\n",
        "  if verbose: print(\"To clean:\", to_clean)\n",
        "  # Start cleaning until the whole room is clean:\n",
        "  while to_clean > 0 and i < max_steps:\n",
        "    perf_measure += 1\n",
        "    action = agent(bumper_sensors, agent_position)\n",
        "    if verbose:\n",
        "      print(\"step\",i,\":\",action)\n",
        "    i +=1\n",
        "    if action == \"suck\":\n",
        "      room[agent_position[\"row\"]][agent_position[\"column\"]] = False\n",
        "      to_clean -= 1\n",
        "    else:\n",
        "      update_position(action)\n",
        "    update_sensors()\n",
        "\n",
        "  return perf_measure"
      ]
    },
    {
      "cell_type": "code",
      "execution_count": 26,
      "metadata": {
        "colab": {
          "base_uri": "https://localhost:8080/",
          "height": 0
        },
        "id": "DQKWfWDYqz1D",
        "outputId": "cb756a39-b11f-4e5f-804d-b81c323f168b"
      },
      "outputs": [
        {
          "name": "stdout",
          "output_type": "stream",
          "text": [
            "Room to clean: [[False, False, False, False, False], [False, True, False, False, True], [False, False, False, True, True], [False, True, True, True, False], [True, True, False, True, False]]\n",
            "To clean: 6\n",
            "step 0 : north\n",
            "step 1 : east\n",
            "step 2 : south\n",
            "step 3 : west\n",
            "step 4 : north\n",
            "step 5 : west\n",
            "step 6 : west\n",
            "step 7 : north\n",
            "step 8 : south\n",
            "step 9 : east\n",
            "step 10 : west\n",
            "step 11 : west\n",
            "step 12 : north\n",
            "step 13 : north\n",
            "step 14 : west\n",
            "step 15 : west\n",
            "step 16 : suck\n",
            "step 17 : north\n",
            "step 18 : suck\n",
            "step 19 : south\n",
            "step 20 : south\n",
            "step 21 : south\n",
            "step 22 : suck\n",
            "step 23 : south\n",
            "step 24 : south\n",
            "step 25 : south\n",
            "step 26 : west\n",
            "step 27 : east\n",
            "step 28 : south\n",
            "step 29 : east\n",
            "step 30 : south\n",
            "step 31 : suck\n",
            "step 32 : north\n",
            "step 33 : west\n",
            "step 34 : suck\n",
            "step 35 : suck\n"
          ]
        },
        {
          "data": {
            "text/plain": [
              "36"
            ]
          },
          "execution_count": 26,
          "metadata": {},
          "output_type": "execute_result"
        }
      ],
      "source": [
        "simulation_environment(simple_randomized_agent, 5, 10000) # to test"
      ]
    },
    {
      "cell_type": "markdown",
      "metadata": {
        "id": "gXsl-EjMjF_j"
      },
      "source": [
        "## Task 2:  Implement a simple reflex agent [10 Points]\n",
        "\n",
        "The simple reflex agent randomly walks around but reacts to the bumper sensor by not bumping into the wall and to dirt with sucking. Implement the agent program as a function.\n",
        "\n",
        "_Note:_ Agents cannot directly use variable in the environment. They only gets the percepts as the arguments to the agent function."
      ]
    },
    {
      "cell_type": "code",
      "execution_count": 11,
      "metadata": {
        "id": "Q0ddGaBNjF_j"
      },
      "outputs": [],
      "source": [
        "# Your code and description goes here\n",
        "# bumper_sensors = {\"north\": True, \"west\": True, \"east\": False, \"south\": False}\n",
        "def reflex_agent(bumpers, dirty):\n",
        "    actions = [\"north\", \"west\", \"east\", \"south\"]\n",
        "    if dirty:\n",
        "      return \"suck\"\n",
        "    else:\n",
        "      action = np.random.choice(actions)\n",
        "      while bumpers[action]:\n",
        "        action = np.random.choice(actions)\n",
        "    return action\n",
        "\n",
        "# assuming there is no case when all of the sensors are True"
      ]
    },
    {
      "cell_type": "code",
      "execution_count": 12,
      "metadata": {
        "colab": {
          "base_uri": "https://localhost:8080/",
          "height": 0
        },
        "id": "CKD8Pzgy3tIi",
        "outputId": "1801a380-be83-4426-f8ff-6c6df1b6f1c3"
      },
      "outputs": [
        {
          "name": "stdout",
          "output_type": "stream",
          "text": [
            "south\n"
          ]
        }
      ],
      "source": [
        "# to test\n",
        "bumper_sensors = {\"north\": False, \"west\": False, \"east\": False, \"south\": False}\n",
        "print(reflex_agent(bumper_sensors, False))"
      ]
    },
    {
      "cell_type": "markdown",
      "metadata": {
        "id": "M1q8qmwvjF_j"
      },
      "source": [
        "## Task 3: Implement a model-based reflex agent [20 Points]\n",
        "\n",
        "Model-based agents use a state to keep track of what they have done and perceived so far. Your agent needs to find out where it is located and then keep track of its current location. You also need a set of rules based on the state and the percepts to make sure that the agent will clean the whole room. For example, the agent can move to a corner to determine its location and then it can navigate through the whole room and clean dirty squares.\n",
        "\n",
        "Describe how you define the __agent state__ and how your agent works before implementing it. ([Help with implementing state information on Python](https://github.com/mhahsler/CS7320-AI/blob/master/HOWTOs/store_agent_state_information.ipynb))"
      ]
    },
    {
      "cell_type": "markdown",
      "metadata": {
        "id": "io9KXaK8RXC1"
      },
      "source": [
        "Description:\n",
        "The agent keeps rack of the direction it is supposed to move based in the sensor's infomration: it has indicator for its current mode that depends on if it is located (it is located only after it reaches the South-East corner before taking further actions). Then, it has the indicator of the direcrion it needs to follow: once it is located, it will start moving upwards changing its direction from \"west\" to \"east\" reaching iventually one of the rooms top-corners. Once the last corner of the room is reached, the agent's done!\n",
        "To change the west-east direction, the agent uses its \"moving_right\" indicator and to locate the last finish corner it uses the bumper sensors informaton and \"last_action\" indicator\".\n"
      ]
    },
    {
      "cell_type": "code",
      "execution_count": 22,
      "metadata": {
        "id": "wZqL8CCAjF_j"
      },
      "outputs": [],
      "source": [
        "bumper_sensors = {\"north\": False, \"west\": False, \"east\": False, \"south\": False}\n",
        "\n",
        "state = {\n",
        "    \"last_action\": None,\n",
        "    \"is_located\": False,\n",
        "    \"moving_right\": True,\n",
        "}\n",
        "\n",
        "def model_based_agent(bumpers, dirty):\n",
        "  if dirty:\n",
        "    return \"suck\"\n",
        "  # if in the top corner and the previous acton is either \"west\" or \"east\":\n",
        "  # => done !\n",
        "  if ((bumpers[\"north\"] and bumpers[\"east\"] and state[\"last_action\"] == \"east\") or\n",
        "      (bumpers[\"north\"] and bumpers[\"west\"] and state[\"last_action\"] == \"west\")\n",
        "     ):\n",
        "      return \"done\"\n",
        "\n",
        "  # STEP 1: Locate South-East Corner:\n",
        "  if not state[\"is_located\"]:\n",
        "      if not bumpers[\"east\"]:  # go east\n",
        "          state[\"last_action\"] = \"east\"\n",
        "          return \"east\"\n",
        "      elif not bumpers[\"south\"]:  # If east is blocked, move south\n",
        "          state[\"last_action\"] = \"south\"\n",
        "          return \"south\"\n",
        "      else:\n",
        "          # yay, at the SE corner:\n",
        "          state[\"is_located\"] = True # update the mode\n",
        "          # Needs to prepare for the  upward zigzag cleaning\n",
        "          state[\"moving_right\"] = False\n",
        "\n",
        "  # STEP 2: Upward Zigzag movements:\n",
        "  # if right direction:\n",
        "  if state[\"moving_right\"]:\n",
        "      if not bumpers[\"east\"]:\n",
        "          state[\"last_action\"] = \"east\"\n",
        "          return \"east\"\n",
        "      else: # at the east wall:\n",
        "          state[\"moving_right\"] = False\n",
        "          return \"north\" if not bumpers[\"north\"] else \"suck\"\n",
        "  else:\n",
        "      if not bumpers[\"west\"]:\n",
        "          state[\"last_action\"] = \"west\"\n",
        "          return \"west\"\n",
        "      else:  # Hit west wall, move up\n",
        "          state[\"moving_right\"] = True\n",
        "          return \"north\" if not bumpers[\"north\"] else \"suck\"\n"
      ]
    },
    {
      "cell_type": "markdown",
      "metadata": {
        "id": "Qi3JK-9hjF_k"
      },
      "source": [
        "## Task 4: Simulation study [30 Points]\n",
        "\n",
        "Compare the performance (the performance measure is defined in the PEAS description above) of the agents using  environments of different size. E.g., $5 \\times 5$, $10 \\times 10$ and\n",
        "$100 \\times 100$. Use 100 random runs for each with 100000 max steps. Present the results using tables and graphs. Discuss the differences between the agents.\n",
        "([Help with charts and tables in Python](https://github.com/mhahsler/CS7320-AI/blob/master/HOWTOs/charts_and_tables.ipynb))"
      ]
    },
    {
      "cell_type": "code",
      "execution_count": 36,
      "metadata": {
        "id": "ccpkRw9VjF_k"
      },
      "outputs": [],
      "source": [
        "import matplotlib.pyplot as plt\n",
        "import numpy as np\n",
        "import pandas as pd\n",
        "\n",
        "\n",
        "def performance_evaluation(agent_list, sizes=[5, 10, 15], runs= 100, max_steps=100000 ):\n",
        "    results = {agent.__name__: [] for agent in agent_list}\n",
        "\n",
        "    for size in sizes:\n",
        "        for agent in agent_list:\n",
        "            perf_scores = []\n",
        "            for _ in range(runs):\n",
        "                score = simulation_environment(agent, size, max_steps, verbose=False)\n",
        "                perf_scores.append(score)\n",
        "            results[agent.__name__].append(np.mean(perf_scores))\n",
        "\n",
        "    df = pd.DataFrame(results, index=[f\"{s}x{s}\" for s in sizes])\n",
        "\n",
        "    return df\n"
      ]
    },
    {
      "cell_type": "markdown",
      "metadata": {
        "id": "tlAtLmp6jF_k"
      },
      "source": [
        "Fill out the following table with the average performance measure for 100 random runs (you may also create this table with code):\n",
        "\n",
        "| Size     | Randomized Agent | Simple Reflex Agent | Model-based Reflex Agent |\n",
        "|----------|------------------|---------------------|--------------------------|\n",
        "| 5x5     |7.38 |7.37 | 38.75|\n",
        "| 10x10   |26.50 |28.24 |144.17 |\n",
        "| 100x100 |59.53 | 56.90| 303.19|\n",
        "\n",
        "Add charts to compare the performance of the different agents."
      ]
    },
    {
      "cell_type": "code",
      "execution_count": 42,
      "metadata": {
        "colab": {
          "base_uri": "https://localhost:8080/",
          "height": 505
        },
        "id": "J361sF6yjF_k",
        "outputId": "7e1821cf-834b-4b76-f89e-9c921d93681f"
      },
      "outputs": [
        {
          "name": "stdout",
          "output_type": "stream",
          "text": [
            "Performance Results:\n"
          ]
        },
        {
          "data": {
            "image/png": "[encoded data removed]",
            "text/plain": [
              "<Figure size 1000x500 with 1 Axes>"
            ]
          },
          "metadata": {},
          "output_type": "display_data"
        }
      ],
      "source": [
        "agents = [model_based_agent, reflex_agent, simple_randomized_agent]\n",
        "df = performance_evaluation(agents)\n",
        "\n",
        "print(\"Performance Results:\")\n",
        "\n",
        "df.plot(kind='bar', figsize=(10, 5), title=\"Agent Performance Comparison\")\n",
        "plt.ylabel(\"Average Steps to Clean Room\")\n",
        "plt.xlabel(\"Room Size\")\n",
        "plt.xticks(rotation=0)\n",
        "plt.legend(title=\"Agent\")\n",
        "plt.grid(axis='y', linestyle='dotted', alpha=0.7)\n",
        "plt.show()"
      ]
    },
    {
      "cell_type": "markdown",
      "metadata": {
        "id": "LVOWQhVOjF_k"
      },
      "source": [
        "## Task 5: Robustness of the agent implementations [10 Points]\n",
        "\n",
        "Describe how **your agent implementations** will perform\n",
        "\n",
        "* if it is put into a rectangular room with unknown size,\n",
        "* if the cleaning area can have an irregular shape (e.g., a hallway connecting two rooms), or\n",
        "* if the room contains obstacles (i.e., squares that it cannot pass through and trigger the bumper sensors)."
      ]
    },
    {
      "cell_type": "code",
      "execution_count": null,
      "metadata": {
        "id": "1d1TRkpcjF_l"
      },
      "outputs": [],
      "source": [
        "# For the model-based agent the rectangualar shape of the room is assumed (4 walls and 4 directions the agent can move).\n",
        "# Therefore, in a rectangular room the agent will still perform in the same way as in a squared room\n",
        "\n",
        "# However, If the room has irregular shape, the agent won't nost likely finish it is tasks as it follows the upward\n",
        "# zigzag direcrion and can be stopped by an unpredicted obstacle. So, it depends on if the shape of the room will support the\n",
        "# upwards east-west moevements of the robat and if there would be obstackles on its way. Generally, it might still continue it is cleaning tasks until\n",
        "# it is reaches one of the top corners coming towards it in a horizontal direction, but the performance and efficiency of the agent will be unpredictable."
      ]
    },
    {
      "cell_type": "markdown",
      "metadata": {
        "id": "w9DyCkSckcFB"
      },
      "source": [
        "\n",
        "\n",
        "---\n",
        "Assignment adapted from [Michael Hahsler](https://github.com/mhahsler/CS7320-AI) under [CC BY-SA](https://creativecommons.org/licenses/by-sa/4.0/deed.en) license.\n"
      ]
    }
  ],
  "metadata": {
    "colab": {
      "provenance": []
    },
    "kernelspec": {
      "display_name": "Python 3 (ipykernel)",
      "language": "python",
      "name": "python3"
    },
    "language_info": {
      "codemirror_mode": {
        "name": "ipython",
        "version": 3
      },
      "file_extension": ".py",
      "mimetype": "text/x-python",
      "name": "python",
      "nbconvert_exporter": "python",
      "pygments_lexer": "ipython3",
      "version": "3.10.12"
    },
    "toc-autonumbering": false
  },
  "nbformat": 4,
  "nbformat_minor": 0
}
